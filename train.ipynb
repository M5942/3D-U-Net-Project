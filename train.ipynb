{
 "cells": [
  {
   "cell_type": "code",
   "execution_count": 11,
   "metadata": {},
   "outputs": [],
   "source": [
    "import numpy as np\n",
    "from model import unet_3d\n",
    "import matplotlib.pyplot as plt\n",
    "from display_widget import display_prediction\n",
    "from load_data import get_data\n",
    "import tensorflow as tf\n",
    "from tensorflow.keras.metrics import BinaryIoU\n",
    "from tensorflow.keras.losses import BinaryCrossentropy\n",
    "from tensorflow.keras.models import load_model\n",
    "import os\n",
    "import absl.logging\n",
    "absl.logging.set_verbosity(absl.logging.ERROR)\n"
   ]
  },
  {
   "cell_type": "code",
   "execution_count": 2,
   "metadata": {},
   "outputs": [],
   "source": [
    "# Root Directory\n",
    "root_dir = r\"data\\cerebellum_data\"\n",
    "\n",
    "model_name = os.path.basename(root_dir)[:-5] + \"_model\""
   ]
  },
  {
   "cell_type": "code",
   "execution_count": 3,
   "metadata": {},
   "outputs": [
    {
     "name": "stdout",
     "output_type": "stream",
     "text": [
      "Test Images: \n",
      "data\\cerebellum_data\\image\\tc1_272614-ob_c.nii.gz\n",
      "data\\cerebellum_data\\image\\tc1_276388-ob_c.nii.gz\n",
      "data\\cerebellum_data\\image\\tc1_272613-ob_c.nii.gz\n",
      "data\\cerebellum_data\\image\\tc1_275324-ob_c.nii.gz\n",
      "data\\cerebellum_data\\image\\tc1_269455-ob_c.nii.gz\n",
      "data\\cerebellum_data\\image\\tc1_272719-ob_c.nii.gz\n",
      "data\\cerebellum_data\\image\\tc1_275320-ob_c.nii.gz\n",
      "data\\cerebellum_data\\image\\tc1_276242-ob_c.nii.gz\n",
      "data\\cerebellum_data\\image\\tc1_272718-ob_c.nii.gz\n"
     ]
    }
   ],
   "source": [
    "test_size = 0.3\n",
    "\n",
    "# Load the training data\n",
    "patch_size = (64, 64, 64)\n",
    "X_train, X_test, Y_train, Y_test = get_data(root_dir, patch_size, test_size)\n"
   ]
  },
  {
   "cell_type": "code",
   "execution_count": 16,
   "metadata": {},
   "outputs": [
    {
     "name": "stdout",
     "output_type": "stream",
     "text": [
      "X_train shape:  (304, 64, 64, 64, 1)\n",
      "y_train shape:  (304, 64, 64, 64, 2)\n",
      "X_test shape:  (144, 64, 64, 64, 1)\n",
      "y_test shape:  (144, 64, 64, 64, 2)\n"
     ]
    }
   ],
   "source": [
    "# Print the shapes of the data\n",
    "print(\"X_train shape: \", X_train.shape)\n",
    "print(\"y_train shape: \", Y_train.shape)\n",
    "print(\"X_test shape: \", X_test.shape)\n",
    "print(\"y_test shape: \", Y_test.shape)\n",
    "\n"
   ]
  },
  {
   "cell_type": "code",
   "execution_count": 18,
   "metadata": {},
   "outputs": [
    {
     "name": "stdout",
     "output_type": "stream",
     "text": [
      "Model: \"cerebellum_model\"\n",
      "__________________________________________________________________________________________________\n",
      " Layer (type)                   Output Shape         Param #     Connected to                     \n",
      "==================================================================================================\n",
      " input_3 (InputLayer)           [(None, None, None,  0           []                               \n",
      "                                 None, 1)]                                                        \n",
      "                                                                                                  \n",
      " conv3d_30 (Conv3D)             (None, None, None,   448         ['input_3[0][0]']                \n",
      "                                None, 16)                                                         \n",
      "                                                                                                  \n",
      " batch_normalization_28 (BatchN  (None, None, None,   64         ['conv3d_30[0][0]']              \n",
      " ormalization)                  None, 16)                                                         \n",
      "                                                                                                  \n",
      " activation_28 (Activation)     (None, None, None,   0           ['batch_normalization_28[0][0]'] \n",
      "                                None, 16)                                                         \n",
      "                                                                                                  \n",
      " conv3d_31 (Conv3D)             (None, None, None,   6928        ['activation_28[0][0]']          \n",
      "                                None, 16)                                                         \n",
      "                                                                                                  \n",
      " batch_normalization_29 (BatchN  (None, None, None,   64         ['conv3d_31[0][0]']              \n",
      " ormalization)                  None, 16)                                                         \n",
      "                                                                                                  \n",
      " activation_29 (Activation)     (None, None, None,   0           ['batch_normalization_29[0][0]'] \n",
      "                                None, 16)                                                         \n",
      "                                                                                                  \n",
      " max_pooling3d_6 (MaxPooling3D)  (None, None, None,   0          ['activation_29[0][0]']          \n",
      "                                None, 16)                                                         \n",
      "                                                                                                  \n",
      " conv3d_32 (Conv3D)             (None, None, None,   13856       ['max_pooling3d_6[0][0]']        \n",
      "                                None, 32)                                                         \n",
      "                                                                                                  \n",
      " batch_normalization_30 (BatchN  (None, None, None,   128        ['conv3d_32[0][0]']              \n",
      " ormalization)                  None, 32)                                                         \n",
      "                                                                                                  \n",
      " activation_30 (Activation)     (None, None, None,   0           ['batch_normalization_30[0][0]'] \n",
      "                                None, 32)                                                         \n",
      "                                                                                                  \n",
      " conv3d_33 (Conv3D)             (None, None, None,   27680       ['activation_30[0][0]']          \n",
      "                                None, 32)                                                         \n",
      "                                                                                                  \n",
      " batch_normalization_31 (BatchN  (None, None, None,   128        ['conv3d_33[0][0]']              \n",
      " ormalization)                  None, 32)                                                         \n",
      "                                                                                                  \n",
      " activation_31 (Activation)     (None, None, None,   0           ['batch_normalization_31[0][0]'] \n",
      "                                None, 32)                                                         \n",
      "                                                                                                  \n",
      " max_pooling3d_7 (MaxPooling3D)  (None, None, None,   0          ['activation_31[0][0]']          \n",
      "                                None, 32)                                                         \n",
      "                                                                                                  \n",
      " conv3d_34 (Conv3D)             (None, None, None,   55360       ['max_pooling3d_7[0][0]']        \n",
      "                                None, 64)                                                         \n",
      "                                                                                                  \n",
      " batch_normalization_32 (BatchN  (None, None, None,   256        ['conv3d_34[0][0]']              \n",
      " ormalization)                  None, 64)                                                         \n",
      "                                                                                                  \n",
      " activation_32 (Activation)     (None, None, None,   0           ['batch_normalization_32[0][0]'] \n",
      "                                None, 64)                                                         \n",
      "                                                                                                  \n",
      " conv3d_35 (Conv3D)             (None, None, None,   110656      ['activation_32[0][0]']          \n",
      "                                None, 64)                                                         \n",
      "                                                                                                  \n",
      " batch_normalization_33 (BatchN  (None, None, None,   256        ['conv3d_35[0][0]']              \n",
      " ormalization)                  None, 64)                                                         \n",
      "                                                                                                  \n",
      " activation_33 (Activation)     (None, None, None,   0           ['batch_normalization_33[0][0]'] \n",
      "                                None, 64)                                                         \n",
      "                                                                                                  \n",
      " max_pooling3d_8 (MaxPooling3D)  (None, None, None,   0          ['activation_33[0][0]']          \n",
      "                                None, 64)                                                         \n",
      "                                                                                                  \n",
      " conv3d_36 (Conv3D)             (None, None, None,   221312      ['max_pooling3d_8[0][0]']        \n",
      "                                None, 128)                                                        \n",
      "                                                                                                  \n",
      " batch_normalization_34 (BatchN  (None, None, None,   512        ['conv3d_36[0][0]']              \n",
      " ormalization)                  None, 128)                                                        \n",
      "                                                                                                  \n",
      " activation_34 (Activation)     (None, None, None,   0           ['batch_normalization_34[0][0]'] \n",
      "                                None, 128)                                                        \n",
      "                                                                                                  \n",
      " conv3d_37 (Conv3D)             (None, None, None,   442496      ['activation_34[0][0]']          \n",
      "                                None, 128)                                                        \n",
      "                                                                                                  \n",
      " batch_normalization_35 (BatchN  (None, None, None,   512        ['conv3d_37[0][0]']              \n",
      " ormalization)                  None, 128)                                                        \n",
      "                                                                                                  \n",
      " activation_35 (Activation)     (None, None, None,   0           ['batch_normalization_35[0][0]'] \n",
      "                                None, 128)                                                        \n",
      "                                                                                                  \n",
      " conv3d_38 (Conv3D)             (None, None, None,   221248      ['activation_35[0][0]']          \n",
      "                                None, 64)                                                         \n",
      "                                                                                                  \n",
      " batch_normalization_36 (BatchN  (None, None, None,   256        ['conv3d_38[0][0]']              \n",
      " ormalization)                  None, 64)                                                         \n",
      "                                                                                                  \n",
      " activation_36 (Activation)     (None, None, None,   0           ['batch_normalization_36[0][0]'] \n",
      "                                None, 64)                                                         \n",
      "                                                                                                  \n",
      " conv3d_39 (Conv3D)             (None, None, None,   110656      ['activation_36[0][0]']          \n",
      "                                None, 64)                                                         \n",
      "                                                                                                  \n",
      " batch_normalization_37 (BatchN  (None, None, None,   256        ['conv3d_39[0][0]']              \n",
      " ormalization)                  None, 64)                                                         \n",
      "                                                                                                  \n",
      " activation_37 (Activation)     (None, None, None,   0           ['batch_normalization_37[0][0]'] \n",
      "                                None, 64)                                                         \n",
      "                                                                                                  \n",
      " up_sampling3d_6 (UpSampling3D)  (None, None, None,   0          ['activation_37[0][0]']          \n",
      "                                None, 64)                                                         \n",
      "                                                                                                  \n",
      " concatenate_6 (Concatenate)    (None, None, None,   0           ['activation_33[0][0]',          \n",
      "                                None, 128)                        'up_sampling3d_6[0][0]']        \n",
      "                                                                                                  \n",
      " conv3d_40 (Conv3D)             (None, None, None,   110624      ['concatenate_6[0][0]']          \n",
      "                                None, 32)                                                         \n",
      "                                                                                                  \n",
      " batch_normalization_38 (BatchN  (None, None, None,   128        ['conv3d_40[0][0]']              \n",
      " ormalization)                  None, 32)                                                         \n",
      "                                                                                                  \n",
      " activation_38 (Activation)     (None, None, None,   0           ['batch_normalization_38[0][0]'] \n",
      "                                None, 32)                                                         \n",
      "                                                                                                  \n",
      " conv3d_41 (Conv3D)             (None, None, None,   27680       ['activation_38[0][0]']          \n",
      "                                None, 32)                                                         \n",
      "                                                                                                  \n",
      " batch_normalization_39 (BatchN  (None, None, None,   128        ['conv3d_41[0][0]']              \n",
      " ormalization)                  None, 32)                                                         \n",
      "                                                                                                  \n",
      " activation_39 (Activation)     (None, None, None,   0           ['batch_normalization_39[0][0]'] \n",
      "                                None, 32)                                                         \n",
      "                                                                                                  \n",
      " up_sampling3d_7 (UpSampling3D)  (None, None, None,   0          ['activation_39[0][0]']          \n",
      "                                None, 32)                                                         \n",
      "                                                                                                  \n",
      " concatenate_7 (Concatenate)    (None, None, None,   0           ['activation_31[0][0]',          \n",
      "                                None, 64)                         'up_sampling3d_7[0][0]']        \n",
      "                                                                                                  \n",
      " conv3d_42 (Conv3D)             (None, None, None,   27664       ['concatenate_7[0][0]']          \n",
      "                                None, 16)                                                         \n",
      "                                                                                                  \n",
      " batch_normalization_40 (BatchN  (None, None, None,   64         ['conv3d_42[0][0]']              \n",
      " ormalization)                  None, 16)                                                         \n",
      "                                                                                                  \n",
      " activation_40 (Activation)     (None, None, None,   0           ['batch_normalization_40[0][0]'] \n",
      "                                None, 16)                                                         \n",
      "                                                                                                  \n",
      " conv3d_43 (Conv3D)             (None, None, None,   6928        ['activation_40[0][0]']          \n",
      "                                None, 16)                                                         \n",
      "                                                                                                  \n",
      " batch_normalization_41 (BatchN  (None, None, None,   64         ['conv3d_43[0][0]']              \n",
      " ormalization)                  None, 16)                                                         \n",
      "                                                                                                  \n",
      " activation_41 (Activation)     (None, None, None,   0           ['batch_normalization_41[0][0]'] \n",
      "                                None, 16)                                                         \n",
      "                                                                                                  \n",
      " up_sampling3d_8 (UpSampling3D)  (None, None, None,   0          ['activation_41[0][0]']          \n",
      "                                None, 16)                                                         \n",
      "                                                                                                  \n",
      " concatenate_8 (Concatenate)    (None, None, None,   0           ['activation_29[0][0]',          \n",
      "                                None, 32)                         'up_sampling3d_8[0][0]']        \n",
      "                                                                                                  \n",
      " conv3d_44 (Conv3D)             (None, None, None,   66          ['concatenate_8[0][0]']          \n",
      "                                None, 2)                                                          \n",
      "                                                                                                  \n",
      "==================================================================================================\n",
      "Total params: 1,386,418\n",
      "Trainable params: 1,385,010\n",
      "Non-trainable params: 1,408\n",
      "__________________________________________________________________________________________________\n"
     ]
    }
   ],
   "source": [
    "# Create a 3D U-Net model\n",
    "\n",
    "# Creates model checkpoints in the given path each time the validation loss improves\n",
    "checkpoint_path = f\"./checkpoints/{model_name.replace('model', 'checkpoint')}.ckpt\"\n",
    "model_checkpoint = tf.keras.callbacks.ModelCheckpoint(filepath=checkpoint_path,\n",
    "                                                      monitor='val_loss',\n",
    "                                                      verbose=1,\n",
    "                                                      save_best_only=True,\n",
    "                                                      mode='min',\n",
    "                                                      save_weights_only=False\n",
    "                                                      )\n",
    "\n",
    "\n",
    "# Try None input shape again and whole image prediction\n",
    "num_classes = 2\n",
    "# input_shape = patch_size + (1,)\n",
    "input_shape = (None, None, None, 1)\n",
    "depth = 4\n",
    "\n",
    "# Try iou with name\n",
    "loss = BinaryCrossentropy()\n",
    "metrics = [BinaryIoU()]\n",
    "\n",
    "model = unet_3d(input_shape=input_shape,\n",
    "                num_classes=num_classes,\n",
    "                depth=depth,\n",
    "                loss=loss,\n",
    "                metrics=metrics\n",
    "                )\n",
    "\n",
    "model._name = model_name\n",
    "\n",
    "# Display the model summary\n",
    "model.summary()\n",
    "\n"
   ]
  },
  {
   "cell_type": "code",
   "execution_count": 19,
   "metadata": {},
   "outputs": [
    {
     "name": "stdout",
     "output_type": "stream",
     "text": [
      "Epoch 1/50\n",
      "51/51 [==============================] - ETA: 0s - loss: 0.6068 - binary_io_u_2: 0.6658\n",
      "Epoch 1: val_loss improved from inf to 0.68847, saving model to ./checkpoints\\cerebellum_checkpoint.ckpt\n",
      "INFO:tensorflow:Assets written to: ./checkpoints\\cerebellum_checkpoint.ckpt\\assets\n"
     ]
    },
    {
     "name": "stderr",
     "output_type": "stream",
     "text": [
      "INFO:tensorflow:Assets written to: ./checkpoints\\cerebellum_checkpoint.ckpt\\assets\n"
     ]
    },
    {
     "name": "stdout",
     "output_type": "stream",
     "text": [
      "51/51 [==============================] - 26s 357ms/step - loss: 0.6068 - binary_io_u_2: 0.6658 - val_loss: 0.6885 - val_binary_io_u_2: 0.7226\n",
      "Epoch 2/50\n",
      "51/51 [==============================] - ETA: 0s - loss: 0.4535 - binary_io_u_2: 0.8552\n",
      "Epoch 2: val_loss improved from 0.68847 to 0.61566, saving model to ./checkpoints\\cerebellum_checkpoint.ckpt\n",
      "INFO:tensorflow:Assets written to: ./checkpoints\\cerebellum_checkpoint.ckpt\\assets\n"
     ]
    },
    {
     "name": "stderr",
     "output_type": "stream",
     "text": [
      "INFO:tensorflow:Assets written to: ./checkpoints\\cerebellum_checkpoint.ckpt\\assets\n"
     ]
    },
    {
     "name": "stdout",
     "output_type": "stream",
     "text": [
      "51/51 [==============================] - 17s 330ms/step - loss: 0.4535 - binary_io_u_2: 0.8552 - val_loss: 0.6157 - val_binary_io_u_2: 0.7226\n",
      "Epoch 3/50\n",
      "51/51 [==============================] - ETA: 0s - loss: 0.3953 - binary_io_u_2: 0.8988\n",
      "Epoch 3: val_loss improved from 0.61566 to 0.57374, saving model to ./checkpoints\\cerebellum_checkpoint.ckpt\n",
      "INFO:tensorflow:Assets written to: ./checkpoints\\cerebellum_checkpoint.ckpt\\assets\n"
     ]
    },
    {
     "name": "stderr",
     "output_type": "stream",
     "text": [
      "INFO:tensorflow:Assets written to: ./checkpoints\\cerebellum_checkpoint.ckpt\\assets\n"
     ]
    },
    {
     "name": "stdout",
     "output_type": "stream",
     "text": [
      "51/51 [==============================] - 16s 314ms/step - loss: 0.3953 - binary_io_u_2: 0.8988 - val_loss: 0.5737 - val_binary_io_u_2: 0.7226\n",
      "Epoch 4/50\n",
      "51/51 [==============================] - ETA: 0s - loss: 0.3655 - binary_io_u_2: 0.9079\n",
      "Epoch 4: val_loss improved from 0.57374 to 0.56165, saving model to ./checkpoints\\cerebellum_checkpoint.ckpt\n",
      "INFO:tensorflow:Assets written to: ./checkpoints\\cerebellum_checkpoint.ckpt\\assets\n"
     ]
    },
    {
     "name": "stderr",
     "output_type": "stream",
     "text": [
      "INFO:tensorflow:Assets written to: ./checkpoints\\cerebellum_checkpoint.ckpt\\assets\n"
     ]
    },
    {
     "name": "stdout",
     "output_type": "stream",
     "text": [
      "51/51 [==============================] - 17s 326ms/step - loss: 0.3655 - binary_io_u_2: 0.9079 - val_loss: 0.5617 - val_binary_io_u_2: 0.7226\n",
      "Epoch 5/50\n",
      "51/51 [==============================] - ETA: 0s - loss: 0.3388 - binary_io_u_2: 0.9228\n",
      "Epoch 5: val_loss improved from 0.56165 to 0.54161, saving model to ./checkpoints\\cerebellum_checkpoint.ckpt\n",
      "INFO:tensorflow:Assets written to: ./checkpoints\\cerebellum_checkpoint.ckpt\\assets\n"
     ]
    },
    {
     "name": "stderr",
     "output_type": "stream",
     "text": [
      "INFO:tensorflow:Assets written to: ./checkpoints\\cerebellum_checkpoint.ckpt\\assets\n"
     ]
    },
    {
     "name": "stdout",
     "output_type": "stream",
     "text": [
      "51/51 [==============================] - 16s 315ms/step - loss: 0.3388 - binary_io_u_2: 0.9228 - val_loss: 0.5416 - val_binary_io_u_2: 0.7226\n",
      "Epoch 6/50\n",
      "51/51 [==============================] - ETA: 0s - loss: 0.3203 - binary_io_u_2: 0.9274\n",
      "Epoch 6: val_loss improved from 0.54161 to 0.52984, saving model to ./checkpoints\\cerebellum_checkpoint.ckpt\n",
      "INFO:tensorflow:Assets written to: ./checkpoints\\cerebellum_checkpoint.ckpt\\assets\n"
     ]
    },
    {
     "name": "stderr",
     "output_type": "stream",
     "text": [
      "INFO:tensorflow:Assets written to: ./checkpoints\\cerebellum_checkpoint.ckpt\\assets\n"
     ]
    },
    {
     "name": "stdout",
     "output_type": "stream",
     "text": [
      "51/51 [==============================] - 16s 314ms/step - loss: 0.3203 - binary_io_u_2: 0.9274 - val_loss: 0.5298 - val_binary_io_u_2: 0.7278\n",
      "Epoch 7/50\n",
      "51/51 [==============================] - ETA: 0s - loss: 0.3108 - binary_io_u_2: 0.9250\n",
      "Epoch 7: val_loss improved from 0.52984 to 0.51467, saving model to ./checkpoints\\cerebellum_checkpoint.ckpt\n",
      "INFO:tensorflow:Assets written to: ./checkpoints\\cerebellum_checkpoint.ckpt\\assets\n"
     ]
    },
    {
     "name": "stderr",
     "output_type": "stream",
     "text": [
      "INFO:tensorflow:Assets written to: ./checkpoints\\cerebellum_checkpoint.ckpt\\assets\n"
     ]
    },
    {
     "name": "stdout",
     "output_type": "stream",
     "text": [
      "51/51 [==============================] - 16s 314ms/step - loss: 0.3108 - binary_io_u_2: 0.9250 - val_loss: 0.5147 - val_binary_io_u_2: 0.7376\n",
      "Epoch 8/50\n",
      "51/51 [==============================] - ETA: 0s - loss: 0.2905 - binary_io_u_2: 0.9357\n",
      "Epoch 8: val_loss did not improve from 0.51467\n",
      "51/51 [==============================] - 10s 194ms/step - loss: 0.2905 - binary_io_u_2: 0.9357 - val_loss: 0.5286 - val_binary_io_u_2: 0.7205\n",
      "Epoch 9/50\n",
      "51/51 [==============================] - ETA: 0s - loss: 0.2764 - binary_io_u_2: 0.9414\n",
      "Epoch 9: val_loss did not improve from 0.51467\n",
      "51/51 [==============================] - 10s 196ms/step - loss: 0.2764 - binary_io_u_2: 0.9414 - val_loss: 0.5526 - val_binary_io_u_2: 0.6958\n",
      "Epoch 10/50\n",
      "51/51 [==============================] - ETA: 0s - loss: 0.2638 - binary_io_u_2: 0.9432\n",
      "Epoch 10: val_loss improved from 0.51467 to 0.51060, saving model to ./checkpoints\\cerebellum_checkpoint.ckpt\n",
      "INFO:tensorflow:Assets written to: ./checkpoints\\cerebellum_checkpoint.ckpt\\assets\n"
     ]
    },
    {
     "name": "stderr",
     "output_type": "stream",
     "text": [
      "INFO:tensorflow:Assets written to: ./checkpoints\\cerebellum_checkpoint.ckpt\\assets\n"
     ]
    },
    {
     "name": "stdout",
     "output_type": "stream",
     "text": [
      "51/51 [==============================] - 16s 324ms/step - loss: 0.2638 - binary_io_u_2: 0.9432 - val_loss: 0.5106 - val_binary_io_u_2: 0.7185\n",
      "Epoch 11/50\n",
      "51/51 [==============================] - ETA: 0s - loss: 0.2516 - binary_io_u_2: 0.9483\n",
      "Epoch 11: val_loss improved from 0.51060 to 0.50425, saving model to ./checkpoints\\cerebellum_checkpoint.ckpt\n",
      "INFO:tensorflow:Assets written to: ./checkpoints\\cerebellum_checkpoint.ckpt\\assets\n"
     ]
    },
    {
     "name": "stderr",
     "output_type": "stream",
     "text": [
      "INFO:tensorflow:Assets written to: ./checkpoints\\cerebellum_checkpoint.ckpt\\assets\n"
     ]
    },
    {
     "name": "stdout",
     "output_type": "stream",
     "text": [
      "51/51 [==============================] - 16s 316ms/step - loss: 0.2516 - binary_io_u_2: 0.9483 - val_loss: 0.5043 - val_binary_io_u_2: 0.7170\n",
      "Epoch 12/50\n",
      "51/51 [==============================] - ETA: 0s - loss: 0.2439 - binary_io_u_2: 0.9461\n",
      "Epoch 12: val_loss improved from 0.50425 to 0.44974, saving model to ./checkpoints\\cerebellum_checkpoint.ckpt\n",
      "INFO:tensorflow:Assets written to: ./checkpoints\\cerebellum_checkpoint.ckpt\\assets\n"
     ]
    },
    {
     "name": "stderr",
     "output_type": "stream",
     "text": [
      "INFO:tensorflow:Assets written to: ./checkpoints\\cerebellum_checkpoint.ckpt\\assets\n"
     ]
    },
    {
     "name": "stdout",
     "output_type": "stream",
     "text": [
      "51/51 [==============================] - 16s 320ms/step - loss: 0.2439 - binary_io_u_2: 0.9461 - val_loss: 0.4497 - val_binary_io_u_2: 0.7586\n",
      "Epoch 13/50\n",
      "51/51 [==============================] - ETA: 0s - loss: 0.2299 - binary_io_u_2: 0.9508\n",
      "Epoch 13: val_loss improved from 0.44974 to 0.39074, saving model to ./checkpoints\\cerebellum_checkpoint.ckpt\n",
      "INFO:tensorflow:Assets written to: ./checkpoints\\cerebellum_checkpoint.ckpt\\assets\n"
     ]
    },
    {
     "name": "stderr",
     "output_type": "stream",
     "text": [
      "INFO:tensorflow:Assets written to: ./checkpoints\\cerebellum_checkpoint.ckpt\\assets\n"
     ]
    },
    {
     "name": "stdout",
     "output_type": "stream",
     "text": [
      "51/51 [==============================] - 16s 320ms/step - loss: 0.2299 - binary_io_u_2: 0.9508 - val_loss: 0.3907 - val_binary_io_u_2: 0.8043\n",
      "Epoch 14/50\n",
      "51/51 [==============================] - ETA: 0s - loss: 0.2211 - binary_io_u_2: 0.9531\n",
      "Epoch 14: val_loss improved from 0.39074 to 0.37877, saving model to ./checkpoints\\cerebellum_checkpoint.ckpt\n",
      "INFO:tensorflow:Assets written to: ./checkpoints\\cerebellum_checkpoint.ckpt\\assets\n"
     ]
    },
    {
     "name": "stderr",
     "output_type": "stream",
     "text": [
      "INFO:tensorflow:Assets written to: ./checkpoints\\cerebellum_checkpoint.ckpt\\assets\n"
     ]
    },
    {
     "name": "stdout",
     "output_type": "stream",
     "text": [
      "51/51 [==============================] - 16s 315ms/step - loss: 0.2211 - binary_io_u_2: 0.9531 - val_loss: 0.3788 - val_binary_io_u_2: 0.8127\n",
      "Epoch 15/50\n",
      "51/51 [==============================] - ETA: 0s - loss: 0.2135 - binary_io_u_2: 0.9524\n",
      "Epoch 15: val_loss improved from 0.37877 to 0.30043, saving model to ./checkpoints\\cerebellum_checkpoint.ckpt\n",
      "INFO:tensorflow:Assets written to: ./checkpoints\\cerebellum_checkpoint.ckpt\\assets\n"
     ]
    },
    {
     "name": "stderr",
     "output_type": "stream",
     "text": [
      "INFO:tensorflow:Assets written to: ./checkpoints\\cerebellum_checkpoint.ckpt\\assets\n"
     ]
    },
    {
     "name": "stdout",
     "output_type": "stream",
     "text": [
      "51/51 [==============================] - 16s 316ms/step - loss: 0.2135 - binary_io_u_2: 0.9524 - val_loss: 0.3004 - val_binary_io_u_2: 0.8955\n",
      "Epoch 16/50\n",
      "51/51 [==============================] - ETA: 0s - loss: 0.2112 - binary_io_u_2: 0.9479\n",
      "Epoch 16: val_loss did not improve from 0.30043\n",
      "51/51 [==============================] - 10s 194ms/step - loss: 0.2112 - binary_io_u_2: 0.9479 - val_loss: 0.4327 - val_binary_io_u_2: 0.7433\n",
      "Epoch 17/50\n",
      "51/51 [==============================] - ETA: 0s - loss: 0.2081 - binary_io_u_2: 0.9455\n",
      "Epoch 17: val_loss did not improve from 0.30043\n",
      "51/51 [==============================] - 10s 195ms/step - loss: 0.2081 - binary_io_u_2: 0.9455 - val_loss: 0.3210 - val_binary_io_u_2: 0.8695\n",
      "Epoch 18/50\n",
      "51/51 [==============================] - ETA: 0s - loss: 0.1933 - binary_io_u_2: 0.9547\n",
      "Epoch 18: val_loss improved from 0.30043 to 0.29144, saving model to ./checkpoints\\cerebellum_checkpoint.ckpt\n",
      "INFO:tensorflow:Assets written to: ./checkpoints\\cerebellum_checkpoint.ckpt\\assets\n"
     ]
    },
    {
     "name": "stderr",
     "output_type": "stream",
     "text": [
      "INFO:tensorflow:Assets written to: ./checkpoints\\cerebellum_checkpoint.ckpt\\assets\n"
     ]
    },
    {
     "name": "stdout",
     "output_type": "stream",
     "text": [
      "51/51 [==============================] - 16s 320ms/step - loss: 0.1933 - binary_io_u_2: 0.9547 - val_loss: 0.2914 - val_binary_io_u_2: 0.9098\n",
      "Epoch 19/50\n",
      "51/51 [==============================] - ETA: 0s - loss: 0.1843 - binary_io_u_2: 0.9575\n",
      "Epoch 19: val_loss did not improve from 0.29144\n",
      "51/51 [==============================] - 10s 196ms/step - loss: 0.1843 - binary_io_u_2: 0.9575 - val_loss: 0.2921 - val_binary_io_u_2: 0.9042\n",
      "Epoch 20/50\n",
      "51/51 [==============================] - ETA: 0s - loss: 0.1790 - binary_io_u_2: 0.9584\n",
      "Epoch 20: val_loss improved from 0.29144 to 0.27398, saving model to ./checkpoints\\cerebellum_checkpoint.ckpt\n",
      "INFO:tensorflow:Assets written to: ./checkpoints\\cerebellum_checkpoint.ckpt\\assets\n"
     ]
    },
    {
     "name": "stderr",
     "output_type": "stream",
     "text": [
      "INFO:tensorflow:Assets written to: ./checkpoints\\cerebellum_checkpoint.ckpt\\assets\n"
     ]
    },
    {
     "name": "stdout",
     "output_type": "stream",
     "text": [
      "51/51 [==============================] - 17s 327ms/step - loss: 0.1790 - binary_io_u_2: 0.9584 - val_loss: 0.2740 - val_binary_io_u_2: 0.9117\n",
      "Epoch 21/50\n",
      "51/51 [==============================] - ETA: 0s - loss: 0.1720 - binary_io_u_2: 0.9597\n",
      "Epoch 21: val_loss improved from 0.27398 to 0.26823, saving model to ./checkpoints\\cerebellum_checkpoint.ckpt\n",
      "INFO:tensorflow:Assets written to: ./checkpoints\\cerebellum_checkpoint.ckpt\\assets\n"
     ]
    },
    {
     "name": "stderr",
     "output_type": "stream",
     "text": [
      "INFO:tensorflow:Assets written to: ./checkpoints\\cerebellum_checkpoint.ckpt\\assets\n"
     ]
    },
    {
     "name": "stdout",
     "output_type": "stream",
     "text": [
      "51/51 [==============================] - 17s 324ms/step - loss: 0.1720 - binary_io_u_2: 0.9597 - val_loss: 0.2682 - val_binary_io_u_2: 0.9161\n",
      "Epoch 22/50\n",
      "51/51 [==============================] - ETA: 0s - loss: 0.1683 - binary_io_u_2: 0.9601\n",
      "Epoch 22: val_loss improved from 0.26823 to 0.24801, saving model to ./checkpoints\\cerebellum_checkpoint.ckpt\n",
      "INFO:tensorflow:Assets written to: ./checkpoints\\cerebellum_checkpoint.ckpt\\assets\n"
     ]
    },
    {
     "name": "stderr",
     "output_type": "stream",
     "text": [
      "INFO:tensorflow:Assets written to: ./checkpoints\\cerebellum_checkpoint.ckpt\\assets\n"
     ]
    },
    {
     "name": "stdout",
     "output_type": "stream",
     "text": [
      "51/51 [==============================] - 18s 346ms/step - loss: 0.1683 - binary_io_u_2: 0.9601 - val_loss: 0.2480 - val_binary_io_u_2: 0.9159\n",
      "Epoch 23/50\n",
      "51/51 [==============================] - ETA: 0s - loss: 0.1619 - binary_io_u_2: 0.9617\n",
      "Epoch 23: val_loss improved from 0.24801 to 0.24428, saving model to ./checkpoints\\cerebellum_checkpoint.ckpt\n",
      "INFO:tensorflow:Assets written to: ./checkpoints\\cerebellum_checkpoint.ckpt\\assets\n"
     ]
    },
    {
     "name": "stderr",
     "output_type": "stream",
     "text": [
      "INFO:tensorflow:Assets written to: ./checkpoints\\cerebellum_checkpoint.ckpt\\assets\n"
     ]
    },
    {
     "name": "stdout",
     "output_type": "stream",
     "text": [
      "51/51 [==============================] - 18s 343ms/step - loss: 0.1619 - binary_io_u_2: 0.9617 - val_loss: 0.2443 - val_binary_io_u_2: 0.9174\n",
      "Epoch 24/50\n",
      "51/51 [==============================] - ETA: 0s - loss: 0.1585 - binary_io_u_2: 0.9614\n",
      "Epoch 24: val_loss improved from 0.24428 to 0.24110, saving model to ./checkpoints\\cerebellum_checkpoint.ckpt\n",
      "INFO:tensorflow:Assets written to: ./checkpoints\\cerebellum_checkpoint.ckpt\\assets\n"
     ]
    },
    {
     "name": "stderr",
     "output_type": "stream",
     "text": [
      "INFO:tensorflow:Assets written to: ./checkpoints\\cerebellum_checkpoint.ckpt\\assets\n"
     ]
    },
    {
     "name": "stdout",
     "output_type": "stream",
     "text": [
      "51/51 [==============================] - 17s 338ms/step - loss: 0.1585 - binary_io_u_2: 0.9614 - val_loss: 0.2411 - val_binary_io_u_2: 0.9165\n",
      "Epoch 25/50\n",
      "51/51 [==============================] - ETA: 0s - loss: 0.1543 - binary_io_u_2: 0.9616\n",
      "Epoch 25: val_loss improved from 0.24110 to 0.23911, saving model to ./checkpoints\\cerebellum_checkpoint.ckpt\n",
      "INFO:tensorflow:Assets written to: ./checkpoints\\cerebellum_checkpoint.ckpt\\assets\n"
     ]
    },
    {
     "name": "stderr",
     "output_type": "stream",
     "text": [
      "INFO:tensorflow:Assets written to: ./checkpoints\\cerebellum_checkpoint.ckpt\\assets\n"
     ]
    },
    {
     "name": "stdout",
     "output_type": "stream",
     "text": [
      "51/51 [==============================] - 17s 338ms/step - loss: 0.1543 - binary_io_u_2: 0.9616 - val_loss: 0.2391 - val_binary_io_u_2: 0.9099\n",
      "Epoch 26/50\n",
      "51/51 [==============================] - ETA: 0s - loss: 0.1524 - binary_io_u_2: 0.9613\n",
      "Epoch 26: val_loss did not improve from 0.23911\n",
      "51/51 [==============================] - 10s 196ms/step - loss: 0.1524 - binary_io_u_2: 0.9613 - val_loss: 0.2392 - val_binary_io_u_2: 0.9127\n",
      "Epoch 27/50\n",
      "51/51 [==============================] - ETA: 0s - loss: 0.1456 - binary_io_u_2: 0.9630\n",
      "Epoch 27: val_loss did not improve from 0.23911\n",
      "51/51 [==============================] - 10s 198ms/step - loss: 0.1456 - binary_io_u_2: 0.9630 - val_loss: 0.2492 - val_binary_io_u_2: 0.9043\n",
      "Epoch 28/50\n",
      "51/51 [==============================] - ETA: 0s - loss: 0.1444 - binary_io_u_2: 0.9625\n",
      "Epoch 28: val_loss improved from 0.23911 to 0.23103, saving model to ./checkpoints\\cerebellum_checkpoint.ckpt\n",
      "INFO:tensorflow:Assets written to: ./checkpoints\\cerebellum_checkpoint.ckpt\\assets\n"
     ]
    },
    {
     "name": "stderr",
     "output_type": "stream",
     "text": [
      "INFO:tensorflow:Assets written to: ./checkpoints\\cerebellum_checkpoint.ckpt\\assets\n"
     ]
    },
    {
     "name": "stdout",
     "output_type": "stream",
     "text": [
      "51/51 [==============================] - 17s 346ms/step - loss: 0.1444 - binary_io_u_2: 0.9625 - val_loss: 0.2310 - val_binary_io_u_2: 0.9088\n",
      "Epoch 29/50\n",
      "51/51 [==============================] - ETA: 0s - loss: 0.1395 - binary_io_u_2: 0.9644\n",
      "Epoch 29: val_loss did not improve from 0.23103\n",
      "51/51 [==============================] - 10s 197ms/step - loss: 0.1395 - binary_io_u_2: 0.9644 - val_loss: 0.2404 - val_binary_io_u_2: 0.9220\n",
      "Epoch 30/50\n",
      "51/51 [==============================] - ETA: 0s - loss: 0.1355 - binary_io_u_2: 0.9649\n",
      "Epoch 30: val_loss improved from 0.23103 to 0.22100, saving model to ./checkpoints\\cerebellum_checkpoint.ckpt\n",
      "INFO:tensorflow:Assets written to: ./checkpoints\\cerebellum_checkpoint.ckpt\\assets\n"
     ]
    },
    {
     "name": "stderr",
     "output_type": "stream",
     "text": [
      "INFO:tensorflow:Assets written to: ./checkpoints\\cerebellum_checkpoint.ckpt\\assets\n"
     ]
    },
    {
     "name": "stdout",
     "output_type": "stream",
     "text": [
      "51/51 [==============================] - 17s 329ms/step - loss: 0.1355 - binary_io_u_2: 0.9649 - val_loss: 0.2210 - val_binary_io_u_2: 0.9128\n",
      "Epoch 31/50\n",
      "51/51 [==============================] - ETA: 0s - loss: 0.1337 - binary_io_u_2: 0.9649\n",
      "Epoch 31: val_loss improved from 0.22100 to 0.21362, saving model to ./checkpoints\\cerebellum_checkpoint.ckpt\n",
      "INFO:tensorflow:Assets written to: ./checkpoints\\cerebellum_checkpoint.ckpt\\assets\n"
     ]
    },
    {
     "name": "stderr",
     "output_type": "stream",
     "text": [
      "INFO:tensorflow:Assets written to: ./checkpoints\\cerebellum_checkpoint.ckpt\\assets\n"
     ]
    },
    {
     "name": "stdout",
     "output_type": "stream",
     "text": [
      "51/51 [==============================] - 17s 325ms/step - loss: 0.1337 - binary_io_u_2: 0.9649 - val_loss: 0.2136 - val_binary_io_u_2: 0.9192\n",
      "Epoch 32/50\n",
      "51/51 [==============================] - ETA: 0s - loss: 0.1435 - binary_io_u_2: 0.9531\n",
      "Epoch 32: val_loss did not improve from 0.21362\n",
      "51/51 [==============================] - 10s 195ms/step - loss: 0.1435 - binary_io_u_2: 0.9531 - val_loss: 0.5135 - val_binary_io_u_2: 0.7202\n",
      "Epoch 33/50\n",
      "51/51 [==============================] - ETA: 0s - loss: 0.1516 - binary_io_u_2: 0.9438\n",
      "Epoch 33: val_loss did not improve from 0.21362\n",
      "51/51 [==============================] - 10s 197ms/step - loss: 0.1516 - binary_io_u_2: 0.9438 - val_loss: 0.8159 - val_binary_io_u_2: 0.7223\n",
      "Epoch 34/50\n",
      "51/51 [==============================] - ETA: 0s - loss: 0.1339 - binary_io_u_2: 0.9584\n",
      "Epoch 34: val_loss did not improve from 0.21362\n",
      "51/51 [==============================] - 10s 199ms/step - loss: 0.1339 - binary_io_u_2: 0.9584 - val_loss: 0.6941 - val_binary_io_u_2: 0.7219\n",
      "Epoch 35/50\n",
      "51/51 [==============================] - ETA: 0s - loss: 0.1291 - binary_io_u_2: 0.9619\n",
      "Epoch 35: val_loss did not improve from 0.21362\n",
      "51/51 [==============================] - 10s 202ms/step - loss: 0.1291 - binary_io_u_2: 0.9619 - val_loss: 0.6473 - val_binary_io_u_2: 0.7210\n",
      "Epoch 36/50\n",
      "51/51 [==============================] - ETA: 0s - loss: 0.1248 - binary_io_u_2: 0.9640\n",
      "Epoch 36: val_loss did not improve from 0.21362\n",
      "51/51 [==============================] - 10s 203ms/step - loss: 0.1248 - binary_io_u_2: 0.9640 - val_loss: 0.5505 - val_binary_io_u_2: 0.7214\n",
      "Epoch 37/50\n",
      "51/51 [==============================] - ETA: 0s - loss: 0.1205 - binary_io_u_2: 0.9654\n",
      "Epoch 37: val_loss did not improve from 0.21362\n",
      "51/51 [==============================] - 10s 204ms/step - loss: 0.1205 - binary_io_u_2: 0.9654 - val_loss: 0.5707 - val_binary_io_u_2: 0.7219\n",
      "Epoch 38/50\n",
      "51/51 [==============================] - ETA: 0s - loss: 0.1218 - binary_io_u_2: 0.9637\n",
      "Epoch 38: val_loss did not improve from 0.21362\n",
      "51/51 [==============================] - 10s 205ms/step - loss: 0.1218 - binary_io_u_2: 0.9637 - val_loss: 0.2398 - val_binary_io_u_2: 0.8833\n",
      "Epoch 39/50\n",
      "51/51 [==============================] - ETA: 0s - loss: 0.1186 - binary_io_u_2: 0.9641\n",
      "Epoch 39: val_loss improved from 0.21362 to 0.20428, saving model to ./checkpoints\\cerebellum_checkpoint.ckpt\n",
      "INFO:tensorflow:Assets written to: ./checkpoints\\cerebellum_checkpoint.ckpt\\assets\n"
     ]
    },
    {
     "name": "stderr",
     "output_type": "stream",
     "text": [
      "INFO:tensorflow:Assets written to: ./checkpoints\\cerebellum_checkpoint.ckpt\\assets\n"
     ]
    },
    {
     "name": "stdout",
     "output_type": "stream",
     "text": [
      "51/51 [==============================] - 17s 338ms/step - loss: 0.1186 - binary_io_u_2: 0.9641 - val_loss: 0.2043 - val_binary_io_u_2: 0.9204\n",
      "Epoch 40/50\n",
      "51/51 [==============================] - ETA: 0s - loss: 0.1145 - binary_io_u_2: 0.9662\n",
      "Epoch 40: val_loss did not improve from 0.20428\n",
      "51/51 [==============================] - 10s 196ms/step - loss: 0.1145 - binary_io_u_2: 0.9662 - val_loss: 0.2050 - val_binary_io_u_2: 0.9209\n",
      "Epoch 41/50\n",
      "51/51 [==============================] - ETA: 0s - loss: 0.1166 - binary_io_u_2: 0.9644\n",
      "Epoch 41: val_loss improved from 0.20428 to 0.19476, saving model to ./checkpoints\\cerebellum_checkpoint.ckpt\n",
      "INFO:tensorflow:Assets written to: ./checkpoints\\cerebellum_checkpoint.ckpt\\assets\n"
     ]
    },
    {
     "name": "stderr",
     "output_type": "stream",
     "text": [
      "INFO:tensorflow:Assets written to: ./checkpoints\\cerebellum_checkpoint.ckpt\\assets\n"
     ]
    },
    {
     "name": "stdout",
     "output_type": "stream",
     "text": [
      "51/51 [==============================] - 16s 326ms/step - loss: 0.1166 - binary_io_u_2: 0.9644 - val_loss: 0.1948 - val_binary_io_u_2: 0.9176\n",
      "Epoch 42/50\n",
      "51/51 [==============================] - ETA: 0s - loss: 0.1117 - binary_io_u_2: 0.9662\n",
      "Epoch 42: val_loss did not improve from 0.19476\n",
      "51/51 [==============================] - 10s 196ms/step - loss: 0.1117 - binary_io_u_2: 0.9662 - val_loss: 0.2029 - val_binary_io_u_2: 0.9196\n",
      "Epoch 43/50\n",
      "51/51 [==============================] - ETA: 0s - loss: 0.1103 - binary_io_u_2: 0.9664\n",
      "Epoch 43: val_loss improved from 0.19476 to 0.18806, saving model to ./checkpoints\\cerebellum_checkpoint.ckpt\n",
      "INFO:tensorflow:Assets written to: ./checkpoints\\cerebellum_checkpoint.ckpt\\assets\n"
     ]
    },
    {
     "name": "stderr",
     "output_type": "stream",
     "text": [
      "INFO:tensorflow:Assets written to: ./checkpoints\\cerebellum_checkpoint.ckpt\\assets\n"
     ]
    },
    {
     "name": "stdout",
     "output_type": "stream",
     "text": [
      "51/51 [==============================] - 17s 327ms/step - loss: 0.1103 - binary_io_u_2: 0.9664 - val_loss: 0.1881 - val_binary_io_u_2: 0.9212\n",
      "Epoch 44/50\n",
      "51/51 [==============================] - ETA: 0s - loss: 0.1080 - binary_io_u_2: 0.9673\n",
      "Epoch 44: val_loss did not improve from 0.18806\n",
      "51/51 [==============================] - 10s 196ms/step - loss: 0.1080 - binary_io_u_2: 0.9673 - val_loss: 0.1906 - val_binary_io_u_2: 0.9194\n",
      "Epoch 45/50\n",
      "51/51 [==============================] - ETA: 0s - loss: 0.1068 - binary_io_u_2: 0.9675\n",
      "Epoch 45: val_loss did not improve from 0.18806\n",
      "51/51 [==============================] - 10s 198ms/step - loss: 0.1068 - binary_io_u_2: 0.9675 - val_loss: 0.1942 - val_binary_io_u_2: 0.9167\n",
      "Epoch 46/50\n",
      "51/51 [==============================] - ETA: 0s - loss: 0.1046 - binary_io_u_2: 0.9679\n",
      "Epoch 46: val_loss did not improve from 0.18806\n",
      "51/51 [==============================] - 10s 204ms/step - loss: 0.1046 - binary_io_u_2: 0.9679 - val_loss: 0.1909 - val_binary_io_u_2: 0.9225\n",
      "Epoch 47/50\n",
      "51/51 [==============================] - ETA: 0s - loss: 0.1023 - binary_io_u_2: 0.9682\n",
      "Epoch 47: val_loss did not improve from 0.18806\n",
      "51/51 [==============================] - 11s 222ms/step - loss: 0.1023 - binary_io_u_2: 0.9682 - val_loss: 0.1925 - val_binary_io_u_2: 0.9235\n",
      "Epoch 48/50\n",
      "51/51 [==============================] - ETA: 0s - loss: 0.1015 - binary_io_u_2: 0.9685\n",
      "Epoch 48: val_loss improved from 0.18806 to 0.18205, saving model to ./checkpoints\\cerebellum_checkpoint.ckpt\n",
      "INFO:tensorflow:Assets written to: ./checkpoints\\cerebellum_checkpoint.ckpt\\assets\n"
     ]
    },
    {
     "name": "stderr",
     "output_type": "stream",
     "text": [
      "INFO:tensorflow:Assets written to: ./checkpoints\\cerebellum_checkpoint.ckpt\\assets\n"
     ]
    },
    {
     "name": "stdout",
     "output_type": "stream",
     "text": [
      "51/51 [==============================] - 17s 345ms/step - loss: 0.1015 - binary_io_u_2: 0.9685 - val_loss: 0.1821 - val_binary_io_u_2: 0.9217\n",
      "Epoch 49/50\n",
      "51/51 [==============================] - ETA: 0s - loss: 0.0991 - binary_io_u_2: 0.9688\n",
      "Epoch 49: val_loss did not improve from 0.18205\n",
      "51/51 [==============================] - 10s 196ms/step - loss: 0.0991 - binary_io_u_2: 0.9688 - val_loss: 0.1899 - val_binary_io_u_2: 0.9164\n",
      "Epoch 50/50\n",
      "51/51 [==============================] - ETA: 0s - loss: 0.0979 - binary_io_u_2: 0.9692\n",
      "Epoch 50: val_loss improved from 0.18205 to 0.17818, saving model to ./checkpoints\\cerebellum_checkpoint.ckpt\n",
      "INFO:tensorflow:Assets written to: ./checkpoints\\cerebellum_checkpoint.ckpt\\assets\n"
     ]
    },
    {
     "name": "stderr",
     "output_type": "stream",
     "text": [
      "INFO:tensorflow:Assets written to: ./checkpoints\\cerebellum_checkpoint.ckpt\\assets\n"
     ]
    },
    {
     "name": "stdout",
     "output_type": "stream",
     "text": [
      "51/51 [==============================] - 16s 326ms/step - loss: 0.0979 - binary_io_u_2: 0.9692 - val_loss: 0.1782 - val_binary_io_u_2: 0.9208\n"
     ]
    }
   ],
   "source": [
    "batch_size = 6\n",
    "epochs = 50\n",
    "\n",
    "# Train the model\n",
    "history = model.fit(X_train,\n",
    "          Y_train,\n",
    "          batch_size=batch_size,\n",
    "          epochs=epochs,\n",
    "          verbose=1,\n",
    "          validation_data=(X_test, Y_test),\n",
    "            callbacks=[model_checkpoint]\n",
    "          )\n",
    "\n"
   ]
  },
  {
   "cell_type": "code",
   "execution_count": 23,
   "metadata": {},
   "outputs": [
    {
     "name": "stdout",
     "output_type": "stream",
     "text": [
      "Evaluate on test data\n",
      "24/24 [==============================] - 2s 60ms/step - loss: 0.1782 - binary_io_u_2: 0.9208\n",
      "test loss, test acc: [0.17817801237106323, 0.9207711219787598]\n"
     ]
    }
   ],
   "source": [
    "# Evaluate the best model on the test data using `evaluate`\n",
    "\n",
    "best_model = load_model(checkpoint_path)\n",
    "\n",
    "print(\"Evaluate on test data\")\n",
    "results = best_model.evaluate(X_test, Y_test, batch_size=batch_size)\n",
    "print(\"test loss, test acc:\", results)\n"
   ]
  },
  {
   "cell_type": "code",
   "execution_count": 22,
   "metadata": {},
   "outputs": [],
   "source": [
    "# Save the best model\n",
    "best_model.save(f\"models/{best_model.name}.h5\")"
   ]
  },
  {
   "cell_type": "code",
   "execution_count": 27,
   "metadata": {},
   "outputs": [
    {
     "data": {
      "image/png": "[encoded data removed]",
      "text/plain": [
       "<Figure size 1500x500 with 2 Axes>"
      ]
     },
     "metadata": {},
     "output_type": "display_data"
    }
   ],
   "source": [
    "# Show the accuracy of the model over time/epochs\n",
    "\n",
    "epoch_lst = history.epoch\n",
    "loss = history.history[\"loss\"]\n",
    "metric = history.history[\"binary_io_u_2\"]\n",
    "val_loss = history.history[\"val_loss\"]\n",
    "val_metric = history.history[\"val_binary_io_u_2\"]\n",
    "\n",
    "fig, (ax1, ax2) = plt.subplots(1,2, figsize=(15,5))\n",
    "\n",
    "# Plot loss and validation loss\n",
    "ax1.plot(epoch_lst, loss, label=\"Training Loss\")\n",
    "ax1.plot(epoch_lst, val_loss, label=\"Validation Loss\")\n",
    "ax1.set_xlabel(\"Epochs\")\n",
    "ax1.set_ylabel(\"Loss\")\n",
    "ax1.set_title(\"Training and Validation Loss\")\n",
    "ax1.legend()\n",
    "\n",
    "# Plot the training and validation dice score\n",
    "ax2.plot(epoch_lst, metric, label=\"Training IoU Score\")\n",
    "ax2.plot(epoch_lst, val_metric, label=\"Validation IoU Score\")\n",
    "ax2.set_xlabel(\"Epochs\")\n",
    "ax2.set_ylabel(\"Dice Score\")\n",
    "ax2.set_title(\"Training and Validation IoU\")\n",
    "ax2.legend()\n",
    "\n",
    "\n",
    "plt.show()"
   ]
  },
  {
   "cell_type": "code",
   "execution_count": 47,
   "metadata": {},
   "outputs": [
    {
     "name": "stdout",
     "output_type": "stream",
     "text": [
      "Generate predictions for 10 samples\n",
      "1/1 [==============================] - 1s 816ms/step\n",
      "predictions shape: (10, 64, 64, 64)\n"
     ]
    }
   ],
   "source": [
    "# Generate predictions (probabilities -- the output of the last layer)\n",
    "\n",
    "n_patches = 10\n",
    "print(f\"Generate predictions for {n_patches} samples\")\n",
    "predictions = best_model.predict(X_test[:n_patches])\n",
    "predictions = np.argmax(predictions, axis=-1)\n",
    "print(\"predictions shape:\", predictions.shape)\n",
    "\n"
   ]
  },
  {
   "cell_type": "code",
   "execution_count": null,
   "metadata": {},
   "outputs": [],
   "source": []
  },
  {
   "cell_type": "code",
   "execution_count": 48,
   "metadata": {},
   "outputs": [],
   "source": [
    "# Extracts a specific patch from the predicted patches to display.\n",
    "\n",
    "test_patch_num = 9\n",
    "image = X_test[test_patch_num]\n",
    "gt = np.argmax(Y_test, axis=-1)[test_patch_num]\n",
    "pred = predictions[test_patch_num]\n",
    "\n"
   ]
  },
  {
   "cell_type": "code",
   "execution_count": 49,
   "metadata": {
    "scrolled": false
   },
   "outputs": [
    {
     "data": {
      "application/vnd.jupyter.widget-view+json": {
       "model_id": "3bdbf32d5ac04dcd868664db524506f3",
       "version_major": 2,
       "version_minor": 0
      },
      "text/plain": [
       "interactive(children=(Dropdown(description='axes', options=('xy', 'yz', 'xz'), value='xy'), IntSlider(value=0,…"
      ]
     },
     "metadata": {},
     "output_type": "display_data"
    }
   ],
   "source": [
    "display_prediction(image, gt, pred, alpha = .5)\n"
   ]
  },
  {
   "cell_type": "code",
   "execution_count": null,
   "metadata": {},
   "outputs": [],
   "source": []
  },
  {
   "cell_type": "code",
   "execution_count": 1,
   "metadata": {},
   "outputs": [],
   "source": []
  },
  {
   "cell_type": "code",
   "execution_count": 1,
   "metadata": {},
   "outputs": [],
   "source": []
  },
  {
   "cell_type": "code",
   "execution_count": 29,
   "metadata": {},
   "outputs": [],
   "source": []
  }
 ],
 "metadata": {
  "kernelspec": {
   "display_name": "Python 3 (ipykernel)",
   "language": "python",
   "name": "python3"
  },
  "language_info": {
   "codemirror_mode": {
    "name": "ipython",
    "version": 3
   },
   "file_extension": ".py",
   "mimetype": "text/x-python",
   "name": "python",
   "nbconvert_exporter": "python",
   "pygments_lexer": "ipython3",
   "version": "3.10.4"
  }
 },
 "nbformat": 4,
 "nbformat_minor": 1
}
