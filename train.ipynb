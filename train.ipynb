{
 "cells": [
  {
   "cell_type": "code",
   "execution_count": 7,
   "metadata": {},
   "outputs": [],
   "source": [
    "import numpy as np\n",
    "from scripts.model import unet_3d\n",
    "import matplotlib.pyplot as plt\n",
    "from scripts.display_widget import display_prediction\n",
    "from scripts.load_data import get_data\n",
    "import tensorflow as tf\n",
    "from tensorflow.keras.models import load_model\n",
    "import os\n",
    "import absl.logging\n",
    "absl.logging.set_verbosity(absl.logging.ERROR)\n"
   ]
  },
  {
   "cell_type": "code",
   "execution_count": 8,
   "metadata": {},
   "outputs": [],
   "source": [
    "# Root Directory\n",
    "root_dir = r\"data\\cerebellum_data\"\n"
   ]
  },
  {
   "cell_type": "code",
   "execution_count": 9,
   "metadata": {},
   "outputs": [
    {
     "name": "stdout",
     "output_type": "stream",
     "text": [
      "Test Images Paths: \n",
      "data\\cerebellum_data\\image\\tc1_272614-ob_c.nii.gz\n",
      "data\\cerebellum_data\\image\\tc1_276388-ob_c.nii.gz\n",
      "data\\cerebellum_data\\image\\tc1_272613-ob_c.nii.gz\n",
      "data\\cerebellum_data\\image\\tc1_275324-ob_c.nii.gz\n",
      "data\\cerebellum_data\\image\\tc1_269455-ob_c.nii.gz\n",
      "data\\cerebellum_data\\image\\tc1_272719-ob_c.nii.gz\n",
      "data\\cerebellum_data\\image\\tc1_275320-ob_c.nii.gz\n",
      "data\\cerebellum_data\\image\\tc1_276242-ob_c.nii.gz\n",
      "data\\cerebellum_data\\image\\tc1_272718-ob_c.nii.gz\n"
     ]
    }
   ],
   "source": [
    "test_size = 0.3\n",
    "\n",
    "# Load the training data\n",
    "patch_size = (64, 64, 64)\n",
    "X_train, X_test, Y_train, Y_test = get_data(root_dir, patch_size, test_size)\n"
   ]
  },
  {
   "cell_type": "code",
   "execution_count": 10,
   "metadata": {},
   "outputs": [
    {
     "name": "stdout",
     "output_type": "stream",
     "text": [
      "X_train shape:  (304, 64, 64, 64, 1)\n",
      "y_train shape:  (304, 64, 64, 64, 2)\n",
      "X_test shape:  (144, 64, 64, 64, 1)\n",
      "y_test shape:  (144, 64, 64, 64, 2)\n"
     ]
    }
   ],
   "source": [
    "# Print the shapes of the data\n",
    "print(\"X_train shape: \", X_train.shape)\n",
    "print(\"y_train shape: \", Y_train.shape)\n",
    "print(\"X_test shape: \", X_test.shape)\n",
    "print(\"y_test shape: \", Y_test.shape)\n",
    "\n"
   ]
  },
  {
   "cell_type": "code",
   "execution_count": 11,
   "metadata": {},
   "outputs": [
    {
     "name": "stdout",
     "output_type": "stream",
     "text": [
      "Model: \"cerebellum_model\"\n",
      "__________________________________________________________________________________________________\n",
      " Layer (type)                   Output Shape         Param #     Connected to                     \n",
      "==================================================================================================\n",
      " input_2 (InputLayer)           [(None, 64, 64, 64,  0           []                               \n",
      "                                 1)]                                                              \n",
      "                                                                                                  \n",
      " conv3d_15 (Conv3D)             (None, 64, 64, 64,   448         ['input_2[0][0]']                \n",
      "                                16)                                                               \n",
      "                                                                                                  \n",
      " batch_normalization_14 (BatchN  (None, 64, 64, 64,   64         ['conv3d_15[0][0]']              \n",
      " ormalization)                  16)                                                               \n",
      "                                                                                                  \n",
      " activation_14 (Activation)     (None, 64, 64, 64,   0           ['batch_normalization_14[0][0]'] \n",
      "                                16)                                                               \n",
      "                                                                                                  \n",
      " conv3d_16 (Conv3D)             (None, 64, 64, 64,   6928        ['activation_14[0][0]']          \n",
      "                                16)                                                               \n",
      "                                                                                                  \n",
      " batch_normalization_15 (BatchN  (None, 64, 64, 64,   64         ['conv3d_16[0][0]']              \n",
      " ormalization)                  16)                                                               \n",
      "                                                                                                  \n",
      " activation_15 (Activation)     (None, 64, 64, 64,   0           ['batch_normalization_15[0][0]'] \n",
      "                                16)                                                               \n",
      "                                                                                                  \n",
      " max_pooling3d_3 (MaxPooling3D)  (None, 32, 32, 32,   0          ['activation_15[0][0]']          \n",
      "                                16)                                                               \n",
      "                                                                                                  \n",
      " conv3d_17 (Conv3D)             (None, 32, 32, 32,   13856       ['max_pooling3d_3[0][0]']        \n",
      "                                32)                                                               \n",
      "                                                                                                  \n",
      " batch_normalization_16 (BatchN  (None, 32, 32, 32,   128        ['conv3d_17[0][0]']              \n",
      " ormalization)                  32)                                                               \n",
      "                                                                                                  \n",
      " activation_16 (Activation)     (None, 32, 32, 32,   0           ['batch_normalization_16[0][0]'] \n",
      "                                32)                                                               \n",
      "                                                                                                  \n",
      " conv3d_18 (Conv3D)             (None, 32, 32, 32,   27680       ['activation_16[0][0]']          \n",
      "                                32)                                                               \n",
      "                                                                                                  \n",
      " batch_normalization_17 (BatchN  (None, 32, 32, 32,   128        ['conv3d_18[0][0]']              \n",
      " ormalization)                  32)                                                               \n",
      "                                                                                                  \n",
      " activation_17 (Activation)     (None, 32, 32, 32,   0           ['batch_normalization_17[0][0]'] \n",
      "                                32)                                                               \n",
      "                                                                                                  \n",
      " max_pooling3d_4 (MaxPooling3D)  (None, 16, 16, 16,   0          ['activation_17[0][0]']          \n",
      "                                32)                                                               \n",
      "                                                                                                  \n",
      " conv3d_19 (Conv3D)             (None, 16, 16, 16,   55360       ['max_pooling3d_4[0][0]']        \n",
      "                                64)                                                               \n",
      "                                                                                                  \n",
      " batch_normalization_18 (BatchN  (None, 16, 16, 16,   256        ['conv3d_19[0][0]']              \n",
      " ormalization)                  64)                                                               \n",
      "                                                                                                  \n",
      " activation_18 (Activation)     (None, 16, 16, 16,   0           ['batch_normalization_18[0][0]'] \n",
      "                                64)                                                               \n",
      "                                                                                                  \n",
      " conv3d_20 (Conv3D)             (None, 16, 16, 16,   110656      ['activation_18[0][0]']          \n",
      "                                64)                                                               \n",
      "                                                                                                  \n",
      " batch_normalization_19 (BatchN  (None, 16, 16, 16,   256        ['conv3d_20[0][0]']              \n",
      " ormalization)                  64)                                                               \n",
      "                                                                                                  \n",
      " activation_19 (Activation)     (None, 16, 16, 16,   0           ['batch_normalization_19[0][0]'] \n",
      "                                64)                                                               \n",
      "                                                                                                  \n",
      " max_pooling3d_5 (MaxPooling3D)  (None, 8, 8, 8, 64)  0          ['activation_19[0][0]']          \n",
      "                                                                                                  \n",
      " conv3d_21 (Conv3D)             (None, 8, 8, 8, 128  221312      ['max_pooling3d_5[0][0]']        \n",
      "                                )                                                                 \n",
      "                                                                                                  \n",
      " batch_normalization_20 (BatchN  (None, 8, 8, 8, 128  512        ['conv3d_21[0][0]']              \n",
      " ormalization)                  )                                                                 \n",
      "                                                                                                  \n",
      " activation_20 (Activation)     (None, 8, 8, 8, 128  0           ['batch_normalization_20[0][0]'] \n",
      "                                )                                                                 \n",
      "                                                                                                  \n",
      " conv3d_22 (Conv3D)             (None, 8, 8, 8, 128  442496      ['activation_20[0][0]']          \n",
      "                                )                                                                 \n",
      "                                                                                                  \n",
      " batch_normalization_21 (BatchN  (None, 8, 8, 8, 128  512        ['conv3d_22[0][0]']              \n",
      " ormalization)                  )                                                                 \n",
      "                                                                                                  \n",
      " activation_21 (Activation)     (None, 8, 8, 8, 128  0           ['batch_normalization_21[0][0]'] \n",
      "                                )                                                                 \n",
      "                                                                                                  \n",
      " conv3d_23 (Conv3D)             (None, 8, 8, 8, 64)  221248      ['activation_21[0][0]']          \n",
      "                                                                                                  \n",
      " batch_normalization_22 (BatchN  (None, 8, 8, 8, 64)  256        ['conv3d_23[0][0]']              \n",
      " ormalization)                                                                                    \n",
      "                                                                                                  \n",
      " activation_22 (Activation)     (None, 8, 8, 8, 64)  0           ['batch_normalization_22[0][0]'] \n",
      "                                                                                                  \n",
      " conv3d_24 (Conv3D)             (None, 8, 8, 8, 64)  110656      ['activation_22[0][0]']          \n",
      "                                                                                                  \n",
      " batch_normalization_23 (BatchN  (None, 8, 8, 8, 64)  256        ['conv3d_24[0][0]']              \n",
      " ormalization)                                                                                    \n",
      "                                                                                                  \n",
      " activation_23 (Activation)     (None, 8, 8, 8, 64)  0           ['batch_normalization_23[0][0]'] \n",
      "                                                                                                  \n",
      " up_sampling3d_3 (UpSampling3D)  (None, 16, 16, 16,   0          ['activation_23[0][0]']          \n",
      "                                64)                                                               \n",
      "                                                                                                  \n",
      " concatenate_3 (Concatenate)    (None, 16, 16, 16,   0           ['activation_19[0][0]',          \n",
      "                                128)                              'up_sampling3d_3[0][0]']        \n",
      "                                                                                                  \n",
      " conv3d_25 (Conv3D)             (None, 16, 16, 16,   110624      ['concatenate_3[0][0]']          \n",
      "                                32)                                                               \n",
      "                                                                                                  \n",
      " batch_normalization_24 (BatchN  (None, 16, 16, 16,   128        ['conv3d_25[0][0]']              \n",
      " ormalization)                  32)                                                               \n",
      "                                                                                                  \n",
      " activation_24 (Activation)     (None, 16, 16, 16,   0           ['batch_normalization_24[0][0]'] \n",
      "                                32)                                                               \n",
      "                                                                                                  \n",
      " conv3d_26 (Conv3D)             (None, 16, 16, 16,   27680       ['activation_24[0][0]']          \n",
      "                                32)                                                               \n",
      "                                                                                                  \n",
      " batch_normalization_25 (BatchN  (None, 16, 16, 16,   128        ['conv3d_26[0][0]']              \n",
      " ormalization)                  32)                                                               \n",
      "                                                                                                  \n",
      " activation_25 (Activation)     (None, 16, 16, 16,   0           ['batch_normalization_25[0][0]'] \n",
      "                                32)                                                               \n",
      "                                                                                                  \n",
      " up_sampling3d_4 (UpSampling3D)  (None, 32, 32, 32,   0          ['activation_25[0][0]']          \n",
      "                                32)                                                               \n",
      "                                                                                                  \n",
      " concatenate_4 (Concatenate)    (None, 32, 32, 32,   0           ['activation_17[0][0]',          \n",
      "                                64)                               'up_sampling3d_4[0][0]']        \n",
      "                                                                                                  \n",
      " conv3d_27 (Conv3D)             (None, 32, 32, 32,   27664       ['concatenate_4[0][0]']          \n",
      "                                16)                                                               \n",
      "                                                                                                  \n",
      " batch_normalization_26 (BatchN  (None, 32, 32, 32,   64         ['conv3d_27[0][0]']              \n",
      " ormalization)                  16)                                                               \n",
      "                                                                                                  \n",
      " activation_26 (Activation)     (None, 32, 32, 32,   0           ['batch_normalization_26[0][0]'] \n",
      "                                16)                                                               \n",
      "                                                                                                  \n",
      " conv3d_28 (Conv3D)             (None, 32, 32, 32,   6928        ['activation_26[0][0]']          \n",
      "                                16)                                                               \n",
      "                                                                                                  \n",
      " batch_normalization_27 (BatchN  (None, 32, 32, 32,   64         ['conv3d_28[0][0]']              \n",
      " ormalization)                  16)                                                               \n",
      "                                                                                                  \n",
      " activation_27 (Activation)     (None, 32, 32, 32,   0           ['batch_normalization_27[0][0]'] \n",
      "                                16)                                                               \n",
      "                                                                                                  \n",
      " up_sampling3d_5 (UpSampling3D)  (None, 64, 64, 64,   0          ['activation_27[0][0]']          \n",
      "                                16)                                                               \n",
      "                                                                                                  \n",
      " concatenate_5 (Concatenate)    (None, 64, 64, 64,   0           ['activation_15[0][0]',          \n",
      "                                32)                               'up_sampling3d_5[0][0]']        \n",
      "                                                                                                  \n",
      " conv3d_29 (Conv3D)             (None, 64, 64, 64,   66          ['concatenate_5[0][0]']          \n",
      "                                2)                                                                \n",
      "                                                                                                  \n",
      "==================================================================================================\n",
      "Total params: 1,386,418\n",
      "Trainable params: 1,385,010\n",
      "Non-trainable params: 1,408\n",
      "__________________________________________________________________________________________________\n"
     ]
    }
   ],
   "source": [
    "# Create a 3D U-Net model\n",
    "\n",
    "model_name = os.path.basename(root_dir)[:-5] + \"_model\"\n",
    "\n",
    "# Creates model checkpoints in the given path each time the validation loss improves\n",
    "checkpoint_path = f\"./checkpoints/{model_name}_checkpoint.ckpt\"\n",
    "model_checkpoint = tf.keras.callbacks.ModelCheckpoint(filepath=checkpoint_path,\n",
    "                                                      monitor='val_loss',\n",
    "                                                      verbose=1,\n",
    "                                                      save_best_only=True,\n",
    "                                                      mode='min',\n",
    "                                                      save_weights_only=False\n",
    "                                                      )\n",
    "\n",
    "\n",
    "num_classes = 2\n",
    "input_shape =  patch_size + (1,)\n",
    "\n",
    "model = unet_3d(input_shape=input_shape,\n",
    "                num_classes=num_classes\n",
    "                )\n",
    "\n",
    "model._name = model_name\n",
    "\n",
    "# Display the model summary\n",
    "model.summary()\n"
   ]
  },
  {
   "cell_type": "code",
   "execution_count": 12,
   "metadata": {},
   "outputs": [
    {
     "name": "stdout",
     "output_type": "stream",
     "text": [
      "Epoch 1/50\n",
      "31/31 [==============================] - ETA: 0s - loss: 0.5484 - dice_coef: 0.5193\n",
      "Epoch 1: val_loss improved from inf to 0.56013, saving model to ./checkpoints\\cerebellum_model_checkpoint.ckpt\n",
      "INFO:tensorflow:Assets written to: ./checkpoints\\cerebellum_model_checkpoint.ckpt\\assets\n"
     ]
    },
    {
     "name": "stderr",
     "output_type": "stream",
     "text": [
      "INFO:tensorflow:Assets written to: ./checkpoints\\cerebellum_model_checkpoint.ckpt\\assets\n"
     ]
    },
    {
     "name": "stdout",
     "output_type": "stream",
     "text": [
      "31/31 [==============================] - 18s 490ms/step - loss: 0.5484 - dice_coef: 0.5193 - val_loss: 0.5601 - val_dice_coef: 0.5059\n",
      "Epoch 2/50\n",
      "31/31 [==============================] - ETA: 0s - loss: 0.4426 - dice_coef: 0.6226\n",
      "Epoch 2: val_loss improved from 0.56013 to 0.54835, saving model to ./checkpoints\\cerebellum_model_checkpoint.ckpt\n",
      "INFO:tensorflow:Assets written to: ./checkpoints\\cerebellum_model_checkpoint.ckpt\\assets\n"
     ]
    },
    {
     "name": "stderr",
     "output_type": "stream",
     "text": [
      "INFO:tensorflow:Assets written to: ./checkpoints\\cerebellum_model_checkpoint.ckpt\\assets\n"
     ]
    },
    {
     "name": "stdout",
     "output_type": "stream",
     "text": [
      "31/31 [==============================] - 16s 513ms/step - loss: 0.4426 - dice_coef: 0.6226 - val_loss: 0.5484 - val_dice_coef: 0.5169\n",
      "Epoch 3/50\n",
      "31/31 [==============================] - ETA: 0s - loss: 0.3969 - dice_coef: 0.6687\n",
      "Epoch 3: val_loss improved from 0.54835 to 0.53185, saving model to ./checkpoints\\cerebellum_model_checkpoint.ckpt\n",
      "INFO:tensorflow:Assets written to: ./checkpoints\\cerebellum_model_checkpoint.ckpt\\assets\n"
     ]
    },
    {
     "name": "stderr",
     "output_type": "stream",
     "text": [
      "INFO:tensorflow:Assets written to: ./checkpoints\\cerebellum_model_checkpoint.ckpt\\assets\n"
     ]
    },
    {
     "name": "stdout",
     "output_type": "stream",
     "text": [
      "31/31 [==============================] - 16s 515ms/step - loss: 0.3969 - dice_coef: 0.6687 - val_loss: 0.5319 - val_dice_coef: 0.5329\n",
      "Epoch 4/50\n",
      "31/31 [==============================] - ETA: 0s - loss: 0.3655 - dice_coef: 0.6991\n",
      "Epoch 4: val_loss improved from 0.53185 to 0.52186, saving model to ./checkpoints\\cerebellum_model_checkpoint.ckpt\n",
      "INFO:tensorflow:Assets written to: ./checkpoints\\cerebellum_model_checkpoint.ckpt\\assets\n"
     ]
    },
    {
     "name": "stderr",
     "output_type": "stream",
     "text": [
      "INFO:tensorflow:Assets written to: ./checkpoints\\cerebellum_model_checkpoint.ckpt\\assets\n"
     ]
    },
    {
     "name": "stdout",
     "output_type": "stream",
     "text": [
      "31/31 [==============================] - 16s 506ms/step - loss: 0.3655 - dice_coef: 0.6991 - val_loss: 0.5219 - val_dice_coef: 0.5423\n",
      "Epoch 5/50\n",
      "31/31 [==============================] - ETA: 0s - loss: 0.3398 - dice_coef: 0.7241\n",
      "Epoch 5: val_loss improved from 0.52186 to 0.51505, saving model to ./checkpoints\\cerebellum_model_checkpoint.ckpt\n",
      "INFO:tensorflow:Assets written to: ./checkpoints\\cerebellum_model_checkpoint.ckpt\\assets\n"
     ]
    },
    {
     "name": "stderr",
     "output_type": "stream",
     "text": [
      "INFO:tensorflow:Assets written to: ./checkpoints\\cerebellum_model_checkpoint.ckpt\\assets\n"
     ]
    },
    {
     "name": "stdout",
     "output_type": "stream",
     "text": [
      "31/31 [==============================] - 17s 532ms/step - loss: 0.3398 - dice_coef: 0.7241 - val_loss: 0.5150 - val_dice_coef: 0.5485\n",
      "Epoch 6/50\n",
      "31/31 [==============================] - ETA: 0s - loss: 0.3224 - dice_coef: 0.7409\n",
      "Epoch 6: val_loss improved from 0.51505 to 0.48864, saving model to ./checkpoints\\cerebellum_model_checkpoint.ckpt\n",
      "INFO:tensorflow:Assets written to: ./checkpoints\\cerebellum_model_checkpoint.ckpt\\assets\n"
     ]
    },
    {
     "name": "stderr",
     "output_type": "stream",
     "text": [
      "INFO:tensorflow:Assets written to: ./checkpoints\\cerebellum_model_checkpoint.ckpt\\assets\n"
     ]
    },
    {
     "name": "stdout",
     "output_type": "stream",
     "text": [
      "31/31 [==============================] - 17s 552ms/step - loss: 0.3224 - dice_coef: 0.7409 - val_loss: 0.4886 - val_dice_coef: 0.5742\n",
      "Epoch 7/50\n",
      "31/31 [==============================] - ETA: 0s - loss: 0.3063 - dice_coef: 0.7561\n",
      "Epoch 7: val_loss improved from 0.48864 to 0.45992, saving model to ./checkpoints\\cerebellum_model_checkpoint.ckpt\n",
      "INFO:tensorflow:Assets written to: ./checkpoints\\cerebellum_model_checkpoint.ckpt\\assets\n"
     ]
    },
    {
     "name": "stderr",
     "output_type": "stream",
     "text": [
      "INFO:tensorflow:Assets written to: ./checkpoints\\cerebellum_model_checkpoint.ckpt\\assets\n"
     ]
    },
    {
     "name": "stdout",
     "output_type": "stream",
     "text": [
      "31/31 [==============================] - 16s 516ms/step - loss: 0.3063 - dice_coef: 0.7561 - val_loss: 0.4599 - val_dice_coef: 0.6023\n",
      "Epoch 8/50\n",
      "31/31 [==============================] - ETA: 0s - loss: 0.2932 - dice_coef: 0.7687\n",
      "Epoch 8: val_loss improved from 0.45992 to 0.42438, saving model to ./checkpoints\\cerebellum_model_checkpoint.ckpt\n",
      "INFO:tensorflow:Assets written to: ./checkpoints\\cerebellum_model_checkpoint.ckpt\\assets\n"
     ]
    },
    {
     "name": "stderr",
     "output_type": "stream",
     "text": [
      "INFO:tensorflow:Assets written to: ./checkpoints\\cerebellum_model_checkpoint.ckpt\\assets\n"
     ]
    },
    {
     "name": "stdout",
     "output_type": "stream",
     "text": [
      "31/31 [==============================] - 15s 486ms/step - loss: 0.2932 - dice_coef: 0.7687 - val_loss: 0.4244 - val_dice_coef: 0.6372\n",
      "Epoch 9/50\n",
      "31/31 [==============================] - ETA: 0s - loss: 0.2834 - dice_coef: 0.7777\n",
      "Epoch 9: val_loss improved from 0.42438 to 0.41381, saving model to ./checkpoints\\cerebellum_model_checkpoint.ckpt\n",
      "INFO:tensorflow:Assets written to: ./checkpoints\\cerebellum_model_checkpoint.ckpt\\assets\n"
     ]
    },
    {
     "name": "stderr",
     "output_type": "stream",
     "text": [
      "INFO:tensorflow:Assets written to: ./checkpoints\\cerebellum_model_checkpoint.ckpt\\assets\n"
     ]
    },
    {
     "name": "stdout",
     "output_type": "stream",
     "text": [
      "31/31 [==============================] - 15s 486ms/step - loss: 0.2834 - dice_coef: 0.7777 - val_loss: 0.4138 - val_dice_coef: 0.6470\n",
      "Epoch 10/50\n",
      "31/31 [==============================] - ETA: 0s - loss: 0.2720 - dice_coef: 0.7884\n",
      "Epoch 10: val_loss improved from 0.41381 to 0.39355, saving model to ./checkpoints\\cerebellum_model_checkpoint.ckpt\n",
      "INFO:tensorflow:Assets written to: ./checkpoints\\cerebellum_model_checkpoint.ckpt\\assets\n"
     ]
    },
    {
     "name": "stderr",
     "output_type": "stream",
     "text": [
      "INFO:tensorflow:Assets written to: ./checkpoints\\cerebellum_model_checkpoint.ckpt\\assets\n"
     ]
    },
    {
     "name": "stdout",
     "output_type": "stream",
     "text": [
      "31/31 [==============================] - 15s 488ms/step - loss: 0.2720 - dice_coef: 0.7884 - val_loss: 0.3936 - val_dice_coef: 0.6667\n",
      "Epoch 11/50\n",
      "31/31 [==============================] - ETA: 0s - loss: 0.2653 - dice_coef: 0.7945\n",
      "Epoch 11: val_loss improved from 0.39355 to 0.37634, saving model to ./checkpoints\\cerebellum_model_checkpoint.ckpt\n",
      "INFO:tensorflow:Assets written to: ./checkpoints\\cerebellum_model_checkpoint.ckpt\\assets\n"
     ]
    },
    {
     "name": "stderr",
     "output_type": "stream",
     "text": [
      "INFO:tensorflow:Assets written to: ./checkpoints\\cerebellum_model_checkpoint.ckpt\\assets\n"
     ]
    },
    {
     "name": "stdout",
     "output_type": "stream",
     "text": [
      "31/31 [==============================] - 15s 495ms/step - loss: 0.2653 - dice_coef: 0.7945 - val_loss: 0.3763 - val_dice_coef: 0.6832\n",
      "Epoch 12/50\n",
      "31/31 [==============================] - ETA: 0s - loss: 0.2571 - dice_coef: 0.8020\n",
      "Epoch 12: val_loss improved from 0.37634 to 0.36203, saving model to ./checkpoints\\cerebellum_model_checkpoint.ckpt\n",
      "INFO:tensorflow:Assets written to: ./checkpoints\\cerebellum_model_checkpoint.ckpt\\assets\n"
     ]
    },
    {
     "name": "stderr",
     "output_type": "stream",
     "text": [
      "INFO:tensorflow:Assets written to: ./checkpoints\\cerebellum_model_checkpoint.ckpt\\assets\n"
     ]
    },
    {
     "name": "stdout",
     "output_type": "stream",
     "text": [
      "31/31 [==============================] - 16s 505ms/step - loss: 0.2571 - dice_coef: 0.8020 - val_loss: 0.3620 - val_dice_coef: 0.6969\n",
      "Epoch 13/50\n",
      "31/31 [==============================] - ETA: 0s - loss: 0.2453 - dice_coef: 0.8133\n",
      "Epoch 13: val_loss improved from 0.36203 to 0.34946, saving model to ./checkpoints\\cerebellum_model_checkpoint.ckpt\n",
      "INFO:tensorflow:Assets written to: ./checkpoints\\cerebellum_model_checkpoint.ckpt\\assets\n"
     ]
    },
    {
     "name": "stderr",
     "output_type": "stream",
     "text": [
      "INFO:tensorflow:Assets written to: ./checkpoints\\cerebellum_model_checkpoint.ckpt\\assets\n"
     ]
    },
    {
     "name": "stdout",
     "output_type": "stream",
     "text": [
      "31/31 [==============================] - 16s 510ms/step - loss: 0.2453 - dice_coef: 0.8133 - val_loss: 0.3495 - val_dice_coef: 0.7089\n",
      "Epoch 14/50\n",
      "31/31 [==============================] - ETA: 0s - loss: 0.2361 - dice_coef: 0.8219\n",
      "Epoch 14: val_loss improved from 0.34946 to 0.34103, saving model to ./checkpoints\\cerebellum_model_checkpoint.ckpt\n",
      "INFO:tensorflow:Assets written to: ./checkpoints\\cerebellum_model_checkpoint.ckpt\\assets\n"
     ]
    },
    {
     "name": "stderr",
     "output_type": "stream",
     "text": [
      "INFO:tensorflow:Assets written to: ./checkpoints\\cerebellum_model_checkpoint.ckpt\\assets\n"
     ]
    },
    {
     "name": "stdout",
     "output_type": "stream",
     "text": [
      "31/31 [==============================] - 15s 482ms/step - loss: 0.2361 - dice_coef: 0.8219 - val_loss: 0.3410 - val_dice_coef: 0.7168\n",
      "Epoch 15/50\n",
      "31/31 [==============================] - ETA: 0s - loss: 0.2281 - dice_coef: 0.8293\n",
      "Epoch 15: val_loss improved from 0.34103 to 0.32373, saving model to ./checkpoints\\cerebellum_model_checkpoint.ckpt\n",
      "INFO:tensorflow:Assets written to: ./checkpoints\\cerebellum_model_checkpoint.ckpt\\assets\n"
     ]
    },
    {
     "name": "stderr",
     "output_type": "stream",
     "text": [
      "INFO:tensorflow:Assets written to: ./checkpoints\\cerebellum_model_checkpoint.ckpt\\assets\n"
     ]
    },
    {
     "name": "stdout",
     "output_type": "stream",
     "text": [
      "31/31 [==============================] - 15s 481ms/step - loss: 0.2281 - dice_coef: 0.8293 - val_loss: 0.3237 - val_dice_coef: 0.7345\n",
      "Epoch 16/50\n",
      "31/31 [==============================] - ETA: 0s - loss: 0.2215 - dice_coef: 0.8352\n",
      "Epoch 16: val_loss improved from 0.32373 to 0.30892, saving model to ./checkpoints\\cerebellum_model_checkpoint.ckpt\n",
      "INFO:tensorflow:Assets written to: ./checkpoints\\cerebellum_model_checkpoint.ckpt\\assets\n"
     ]
    },
    {
     "name": "stderr",
     "output_type": "stream",
     "text": [
      "INFO:tensorflow:Assets written to: ./checkpoints\\cerebellum_model_checkpoint.ckpt\\assets\n"
     ]
    },
    {
     "name": "stdout",
     "output_type": "stream",
     "text": [
      "31/31 [==============================] - 15s 490ms/step - loss: 0.2215 - dice_coef: 0.8352 - val_loss: 0.3089 - val_dice_coef: 0.7491\n",
      "Epoch 17/50\n",
      "31/31 [==============================] - ETA: 0s - loss: 0.2159 - dice_coef: 0.8402\n",
      "Epoch 17: val_loss did not improve from 0.30892\n",
      "31/31 [==============================] - 10s 329ms/step - loss: 0.2159 - dice_coef: 0.8402 - val_loss: 0.3322 - val_dice_coef: 0.7249\n",
      "Epoch 18/50\n",
      "31/31 [==============================] - ETA: 0s - loss: 0.2106 - dice_coef: 0.8442\n",
      "Epoch 18: val_loss improved from 0.30892 to 0.29731, saving model to ./checkpoints\\cerebellum_model_checkpoint.ckpt\n",
      "INFO:tensorflow:Assets written to: ./checkpoints\\cerebellum_model_checkpoint.ckpt\\assets\n"
     ]
    },
    {
     "name": "stderr",
     "output_type": "stream",
     "text": [
      "INFO:tensorflow:Assets written to: ./checkpoints\\cerebellum_model_checkpoint.ckpt\\assets\n"
     ]
    },
    {
     "name": "stdout",
     "output_type": "stream",
     "text": [
      "31/31 [==============================] - 17s 573ms/step - loss: 0.2106 - dice_coef: 0.8442 - val_loss: 0.2973 - val_dice_coef: 0.7587\n",
      "Epoch 19/50\n",
      "31/31 [==============================] - ETA: 0s - loss: 0.2025 - dice_coef: 0.8525\n",
      "Epoch 19: val_loss improved from 0.29731 to 0.27835, saving model to ./checkpoints\\cerebellum_model_checkpoint.ckpt\n",
      "INFO:tensorflow:Assets written to: ./checkpoints\\cerebellum_model_checkpoint.ckpt\\assets\n"
     ]
    },
    {
     "name": "stderr",
     "output_type": "stream",
     "text": [
      "INFO:tensorflow:Assets written to: ./checkpoints\\cerebellum_model_checkpoint.ckpt\\assets\n"
     ]
    },
    {
     "name": "stdout",
     "output_type": "stream",
     "text": [
      "31/31 [==============================] - 18s 571ms/step - loss: 0.2025 - dice_coef: 0.8525 - val_loss: 0.2784 - val_dice_coef: 0.7772\n",
      "Epoch 20/50\n",
      "31/31 [==============================] - ETA: 0s - loss: 0.1956 - dice_coef: 0.8587\n",
      "Epoch 20: val_loss improved from 0.27835 to 0.25454, saving model to ./checkpoints\\cerebellum_model_checkpoint.ckpt\n",
      "INFO:tensorflow:Assets written to: ./checkpoints\\cerebellum_model_checkpoint.ckpt\\assets\n"
     ]
    },
    {
     "name": "stderr",
     "output_type": "stream",
     "text": [
      "INFO:tensorflow:Assets written to: ./checkpoints\\cerebellum_model_checkpoint.ckpt\\assets\n"
     ]
    },
    {
     "name": "stdout",
     "output_type": "stream",
     "text": [
      "31/31 [==============================] - 18s 572ms/step - loss: 0.1956 - dice_coef: 0.8587 - val_loss: 0.2545 - val_dice_coef: 0.8000\n",
      "Epoch 21/50\n",
      "31/31 [==============================] - ETA: 0s - loss: 0.1901 - dice_coef: 0.8631\n",
      "Epoch 21: val_loss did not improve from 0.25454\n",
      "31/31 [==============================] - 9s 280ms/step - loss: 0.1901 - dice_coef: 0.8631 - val_loss: 0.2601 - val_dice_coef: 0.7939\n",
      "Epoch 22/50\n",
      "31/31 [==============================] - ETA: 0s - loss: 0.1830 - dice_coef: 0.8700\n",
      "Epoch 22: val_loss improved from 0.25454 to 0.24648, saving model to ./checkpoints\\cerebellum_model_checkpoint.ckpt\n",
      "INFO:tensorflow:Assets written to: ./checkpoints\\cerebellum_model_checkpoint.ckpt\\assets\n"
     ]
    },
    {
     "name": "stderr",
     "output_type": "stream",
     "text": [
      "INFO:tensorflow:Assets written to: ./checkpoints\\cerebellum_model_checkpoint.ckpt\\assets\n"
     ]
    },
    {
     "name": "stdout",
     "output_type": "stream",
     "text": [
      "31/31 [==============================] - 15s 487ms/step - loss: 0.1830 - dice_coef: 0.8700 - val_loss: 0.2465 - val_dice_coef: 0.8068\n",
      "Epoch 23/50\n",
      "31/31 [==============================] - ETA: 0s - loss: 0.1782 - dice_coef: 0.8742\n",
      "Epoch 23: val_loss improved from 0.24648 to 0.21487, saving model to ./checkpoints\\cerebellum_model_checkpoint.ckpt\n",
      "INFO:tensorflow:Assets written to: ./checkpoints\\cerebellum_model_checkpoint.ckpt\\assets\n"
     ]
    },
    {
     "name": "stderr",
     "output_type": "stream",
     "text": [
      "INFO:tensorflow:Assets written to: ./checkpoints\\cerebellum_model_checkpoint.ckpt\\assets\n"
     ]
    },
    {
     "name": "stdout",
     "output_type": "stream",
     "text": [
      "31/31 [==============================] - 15s 495ms/step - loss: 0.1782 - dice_coef: 0.8742 - val_loss: 0.2149 - val_dice_coef: 0.8372\n",
      "Epoch 24/50\n",
      "31/31 [==============================] - ETA: 0s - loss: 0.1728 - dice_coef: 0.8787\n",
      "Epoch 24: val_loss improved from 0.21487 to 0.20606, saving model to ./checkpoints\\cerebellum_model_checkpoint.ckpt\n",
      "INFO:tensorflow:Assets written to: ./checkpoints\\cerebellum_model_checkpoint.ckpt\\assets\n"
     ]
    },
    {
     "name": "stderr",
     "output_type": "stream",
     "text": [
      "INFO:tensorflow:Assets written to: ./checkpoints\\cerebellum_model_checkpoint.ckpt\\assets\n"
     ]
    },
    {
     "name": "stdout",
     "output_type": "stream",
     "text": [
      "31/31 [==============================] - 16s 512ms/step - loss: 0.1728 - dice_coef: 0.8787 - val_loss: 0.2061 - val_dice_coef: 0.8454\n",
      "Epoch 25/50\n",
      "31/31 [==============================] - ETA: 0s - loss: 0.1668 - dice_coef: 0.8842\n",
      "Epoch 25: val_loss improved from 0.20606 to 0.19302, saving model to ./checkpoints\\cerebellum_model_checkpoint.ckpt\n",
      "INFO:tensorflow:Assets written to: ./checkpoints\\cerebellum_model_checkpoint.ckpt\\assets\n"
     ]
    },
    {
     "name": "stderr",
     "output_type": "stream",
     "text": [
      "INFO:tensorflow:Assets written to: ./checkpoints\\cerebellum_model_checkpoint.ckpt\\assets\n"
     ]
    },
    {
     "name": "stdout",
     "output_type": "stream",
     "text": [
      "31/31 [==============================] - 16s 521ms/step - loss: 0.1668 - dice_coef: 0.8842 - val_loss: 0.1930 - val_dice_coef: 0.8579\n",
      "Epoch 26/50\n",
      "31/31 [==============================] - ETA: 0s - loss: 0.1618 - dice_coef: 0.8888\n",
      "Epoch 26: val_loss improved from 0.19302 to 0.18696, saving model to ./checkpoints\\cerebellum_model_checkpoint.ckpt\n",
      "INFO:tensorflow:Assets written to: ./checkpoints\\cerebellum_model_checkpoint.ckpt\\assets\n"
     ]
    },
    {
     "name": "stderr",
     "output_type": "stream",
     "text": [
      "INFO:tensorflow:Assets written to: ./checkpoints\\cerebellum_model_checkpoint.ckpt\\assets\n"
     ]
    },
    {
     "name": "stdout",
     "output_type": "stream",
     "text": [
      "31/31 [==============================] - 16s 505ms/step - loss: 0.1618 - dice_coef: 0.8888 - val_loss: 0.1870 - val_dice_coef: 0.8635\n",
      "Epoch 27/50\n",
      "31/31 [==============================] - ETA: 0s - loss: 0.1595 - dice_coef: 0.8905\n",
      "Epoch 27: val_loss improved from 0.18696 to 0.17494, saving model to ./checkpoints\\cerebellum_model_checkpoint.ckpt\n",
      "INFO:tensorflow:Assets written to: ./checkpoints\\cerebellum_model_checkpoint.ckpt\\assets\n"
     ]
    },
    {
     "name": "stderr",
     "output_type": "stream",
     "text": [
      "INFO:tensorflow:Assets written to: ./checkpoints\\cerebellum_model_checkpoint.ckpt\\assets\n"
     ]
    },
    {
     "name": "stdout",
     "output_type": "stream",
     "text": [
      "31/31 [==============================] - 18s 593ms/step - loss: 0.1595 - dice_coef: 0.8905 - val_loss: 0.1749 - val_dice_coef: 0.8747\n",
      "Epoch 28/50\n",
      "31/31 [==============================] - ETA: 0s - loss: 0.1622 - dice_coef: 0.8863\n",
      "Epoch 28: val_loss did not improve from 0.17494\n",
      "31/31 [==============================] - 9s 295ms/step - loss: 0.1622 - dice_coef: 0.8863 - val_loss: 0.1852 - val_dice_coef: 0.8640\n",
      "Epoch 29/50\n",
      "31/31 [==============================] - ETA: 0s - loss: 0.1552 - dice_coef: 0.8940\n",
      "Epoch 29: val_loss improved from 0.17494 to 0.16291, saving model to ./checkpoints\\cerebellum_model_checkpoint.ckpt\n",
      "INFO:tensorflow:Assets written to: ./checkpoints\\cerebellum_model_checkpoint.ckpt\\assets\n"
     ]
    },
    {
     "name": "stderr",
     "output_type": "stream",
     "text": [
      "INFO:tensorflow:Assets written to: ./checkpoints\\cerebellum_model_checkpoint.ckpt\\assets\n"
     ]
    },
    {
     "name": "stdout",
     "output_type": "stream",
     "text": [
      "31/31 [==============================] - 18s 600ms/step - loss: 0.1552 - dice_coef: 0.8940 - val_loss: 0.1629 - val_dice_coef: 0.8859\n",
      "Epoch 30/50\n",
      "31/31 [==============================] - ETA: 0s - loss: 0.1473 - dice_coef: 0.9012\n",
      "Epoch 30: val_loss improved from 0.16291 to 0.15710, saving model to ./checkpoints\\cerebellum_model_checkpoint.ckpt\n",
      "INFO:tensorflow:Assets written to: ./checkpoints\\cerebellum_model_checkpoint.ckpt\\assets\n"
     ]
    },
    {
     "name": "stderr",
     "output_type": "stream",
     "text": [
      "INFO:tensorflow:Assets written to: ./checkpoints\\cerebellum_model_checkpoint.ckpt\\assets\n"
     ]
    },
    {
     "name": "stdout",
     "output_type": "stream",
     "text": [
      "31/31 [==============================] - 17s 548ms/step - loss: 0.1473 - dice_coef: 0.9012 - val_loss: 0.1571 - val_dice_coef: 0.8913\n",
      "Epoch 31/50\n",
      "31/31 [==============================] - ETA: 0s - loss: 0.1456 - dice_coef: 0.9024\n",
      "Epoch 31: val_loss improved from 0.15710 to 0.15529, saving model to ./checkpoints\\cerebellum_model_checkpoint.ckpt\n",
      "INFO:tensorflow:Assets written to: ./checkpoints\\cerebellum_model_checkpoint.ckpt\\assets\n"
     ]
    },
    {
     "name": "stderr",
     "output_type": "stream",
     "text": [
      "INFO:tensorflow:Assets written to: ./checkpoints\\cerebellum_model_checkpoint.ckpt\\assets\n"
     ]
    },
    {
     "name": "stdout",
     "output_type": "stream",
     "text": [
      "31/31 [==============================] - 15s 500ms/step - loss: 0.1456 - dice_coef: 0.9024 - val_loss: 0.1553 - val_dice_coef: 0.8926\n",
      "Epoch 32/50\n",
      "31/31 [==============================] - ETA: 0s - loss: 0.1420 - dice_coef: 0.9053\n",
      "Epoch 32: val_loss improved from 0.15529 to 0.15192, saving model to ./checkpoints\\cerebellum_model_checkpoint.ckpt\n",
      "INFO:tensorflow:Assets written to: ./checkpoints\\cerebellum_model_checkpoint.ckpt\\assets\n"
     ]
    },
    {
     "name": "stderr",
     "output_type": "stream",
     "text": [
      "INFO:tensorflow:Assets written to: ./checkpoints\\cerebellum_model_checkpoint.ckpt\\assets\n"
     ]
    },
    {
     "name": "stdout",
     "output_type": "stream",
     "text": [
      "31/31 [==============================] - 18s 567ms/step - loss: 0.1420 - dice_coef: 0.9053 - val_loss: 0.1519 - val_dice_coef: 0.8956\n",
      "Epoch 33/50\n",
      "31/31 [==============================] - ETA: 0s - loss: 0.1388 - dice_coef: 0.9082\n",
      "Epoch 33: val_loss did not improve from 0.15192\n",
      "31/31 [==============================] - 9s 285ms/step - loss: 0.1388 - dice_coef: 0.9082 - val_loss: 0.1537 - val_dice_coef: 0.8932\n",
      "Epoch 34/50\n",
      "31/31 [==============================] - ETA: 0s - loss: 0.1347 - dice_coef: 0.9117\n",
      "Epoch 34: val_loss improved from 0.15192 to 0.14459, saving model to ./checkpoints\\cerebellum_model_checkpoint.ckpt\n",
      "INFO:tensorflow:Assets written to: ./checkpoints\\cerebellum_model_checkpoint.ckpt\\assets\n"
     ]
    },
    {
     "name": "stderr",
     "output_type": "stream",
     "text": [
      "INFO:tensorflow:Assets written to: ./checkpoints\\cerebellum_model_checkpoint.ckpt\\assets\n"
     ]
    },
    {
     "name": "stdout",
     "output_type": "stream",
     "text": [
      "31/31 [==============================] - 16s 525ms/step - loss: 0.1347 - dice_coef: 0.9117 - val_loss: 0.1446 - val_dice_coef: 0.9018\n",
      "Epoch 35/50\n",
      "31/31 [==============================] - ETA: 0s - loss: 0.1309 - dice_coef: 0.9152\n",
      "Epoch 35: val_loss improved from 0.14459 to 0.13895, saving model to ./checkpoints\\cerebellum_model_checkpoint.ckpt\n",
      "INFO:tensorflow:Assets written to: ./checkpoints\\cerebellum_model_checkpoint.ckpt\\assets\n"
     ]
    },
    {
     "name": "stderr",
     "output_type": "stream",
     "text": [
      "INFO:tensorflow:Assets written to: ./checkpoints\\cerebellum_model_checkpoint.ckpt\\assets\n"
     ]
    },
    {
     "name": "stdout",
     "output_type": "stream",
     "text": [
      "31/31 [==============================] - 17s 561ms/step - loss: 0.1309 - dice_coef: 0.9152 - val_loss: 0.1389 - val_dice_coef: 0.9070\n",
      "Epoch 36/50\n",
      "31/31 [==============================] - ETA: 0s - loss: 0.1295 - dice_coef: 0.9160\n",
      "Epoch 36: val_loss improved from 0.13895 to 0.13221, saving model to ./checkpoints\\cerebellum_model_checkpoint.ckpt\n",
      "INFO:tensorflow:Assets written to: ./checkpoints\\cerebellum_model_checkpoint.ckpt\\assets\n"
     ]
    },
    {
     "name": "stderr",
     "output_type": "stream",
     "text": [
      "INFO:tensorflow:Assets written to: ./checkpoints\\cerebellum_model_checkpoint.ckpt\\assets\n"
     ]
    },
    {
     "name": "stdout",
     "output_type": "stream",
     "text": [
      "31/31 [==============================] - 16s 527ms/step - loss: 0.1295 - dice_coef: 0.9160 - val_loss: 0.1322 - val_dice_coef: 0.9133\n",
      "Epoch 37/50\n",
      "31/31 [==============================] - ETA: 0s - loss: 0.1258 - dice_coef: 0.9190\n",
      "Epoch 37: val_loss improved from 0.13221 to 0.12706, saving model to ./checkpoints\\cerebellum_model_checkpoint.ckpt\n",
      "INFO:tensorflow:Assets written to: ./checkpoints\\cerebellum_model_checkpoint.ckpt\\assets\n"
     ]
    },
    {
     "name": "stderr",
     "output_type": "stream",
     "text": [
      "INFO:tensorflow:Assets written to: ./checkpoints\\cerebellum_model_checkpoint.ckpt\\assets\n"
     ]
    },
    {
     "name": "stdout",
     "output_type": "stream",
     "text": [
      "31/31 [==============================] - 15s 489ms/step - loss: 0.1258 - dice_coef: 0.9190 - val_loss: 0.1271 - val_dice_coef: 0.9179\n",
      "Epoch 38/50\n",
      "31/31 [==============================] - ETA: 0s - loss: 0.1237 - dice_coef: 0.9208\n",
      "Epoch 38: val_loss did not improve from 0.12706\n",
      "31/31 [==============================] - 9s 279ms/step - loss: 0.1237 - dice_coef: 0.9208 - val_loss: 0.1271 - val_dice_coef: 0.9172\n",
      "Epoch 39/50\n",
      "31/31 [==============================] - ETA: 0s - loss: 0.1210 - dice_coef: 0.9231\n",
      "Epoch 39: val_loss improved from 0.12706 to 0.12389, saving model to ./checkpoints\\cerebellum_model_checkpoint.ckpt\n",
      "INFO:tensorflow:Assets written to: ./checkpoints\\cerebellum_model_checkpoint.ckpt\\assets\n"
     ]
    },
    {
     "name": "stderr",
     "output_type": "stream",
     "text": [
      "INFO:tensorflow:Assets written to: ./checkpoints\\cerebellum_model_checkpoint.ckpt\\assets\n"
     ]
    },
    {
     "name": "stdout",
     "output_type": "stream",
     "text": [
      "31/31 [==============================] - 16s 521ms/step - loss: 0.1210 - dice_coef: 0.9231 - val_loss: 0.1239 - val_dice_coef: 0.9202\n",
      "Epoch 40/50\n",
      "31/31 [==============================] - ETA: 0s - loss: 0.1174 - dice_coef: 0.9263\n",
      "Epoch 40: val_loss improved from 0.12389 to 0.12064, saving model to ./checkpoints\\cerebellum_model_checkpoint.ckpt\n",
      "INFO:tensorflow:Assets written to: ./checkpoints\\cerebellum_model_checkpoint.ckpt\\assets\n"
     ]
    },
    {
     "name": "stderr",
     "output_type": "stream",
     "text": [
      "INFO:tensorflow:Assets written to: ./checkpoints\\cerebellum_model_checkpoint.ckpt\\assets\n"
     ]
    },
    {
     "name": "stdout",
     "output_type": "stream",
     "text": [
      "31/31 [==============================] - 18s 594ms/step - loss: 0.1174 - dice_coef: 0.9263 - val_loss: 0.1206 - val_dice_coef: 0.9228\n",
      "Epoch 41/50\n",
      "31/31 [==============================] - ETA: 0s - loss: 0.1158 - dice_coef: 0.9273\n",
      "Epoch 41: val_loss improved from 0.12064 to 0.11961, saving model to ./checkpoints\\cerebellum_model_checkpoint.ckpt\n",
      "INFO:tensorflow:Assets written to: ./checkpoints\\cerebellum_model_checkpoint.ckpt\\assets\n"
     ]
    },
    {
     "name": "stderr",
     "output_type": "stream",
     "text": [
      "INFO:tensorflow:Assets written to: ./checkpoints\\cerebellum_model_checkpoint.ckpt\\assets\n"
     ]
    },
    {
     "name": "stdout",
     "output_type": "stream",
     "text": [
      "31/31 [==============================] - 16s 507ms/step - loss: 0.1158 - dice_coef: 0.9273 - val_loss: 0.1196 - val_dice_coef: 0.9233\n",
      "Epoch 42/50\n",
      "31/31 [==============================] - ETA: 0s - loss: 0.1129 - dice_coef: 0.9297\n",
      "Epoch 42: val_loss improved from 0.11961 to 0.11754, saving model to ./checkpoints\\cerebellum_model_checkpoint.ckpt\n",
      "INFO:tensorflow:Assets written to: ./checkpoints\\cerebellum_model_checkpoint.ckpt\\assets\n"
     ]
    },
    {
     "name": "stderr",
     "output_type": "stream",
     "text": [
      "INFO:tensorflow:Assets written to: ./checkpoints\\cerebellum_model_checkpoint.ckpt\\assets\n"
     ]
    },
    {
     "name": "stdout",
     "output_type": "stream",
     "text": [
      "31/31 [==============================] - 16s 504ms/step - loss: 0.1129 - dice_coef: 0.9297 - val_loss: 0.1175 - val_dice_coef: 0.9248\n",
      "Epoch 43/50\n",
      "31/31 [==============================] - ETA: 0s - loss: 0.1105 - dice_coef: 0.9314\n",
      "Epoch 43: val_loss improved from 0.11754 to 0.11556, saving model to ./checkpoints\\cerebellum_model_checkpoint.ckpt\n",
      "INFO:tensorflow:Assets written to: ./checkpoints\\cerebellum_model_checkpoint.ckpt\\assets\n"
     ]
    },
    {
     "name": "stderr",
     "output_type": "stream",
     "text": [
      "INFO:tensorflow:Assets written to: ./checkpoints\\cerebellum_model_checkpoint.ckpt\\assets\n"
     ]
    },
    {
     "name": "stdout",
     "output_type": "stream",
     "text": [
      "31/31 [==============================] - 17s 553ms/step - loss: 0.1105 - dice_coef: 0.9314 - val_loss: 0.1156 - val_dice_coef: 0.9264\n",
      "Epoch 44/50\n",
      "31/31 [==============================] - ETA: 0s - loss: 0.1099 - dice_coef: 0.9318\n",
      "Epoch 44: val_loss improved from 0.11556 to 0.11455, saving model to ./checkpoints\\cerebellum_model_checkpoint.ckpt\n",
      "INFO:tensorflow:Assets written to: ./checkpoints\\cerebellum_model_checkpoint.ckpt\\assets\n"
     ]
    },
    {
     "name": "stderr",
     "output_type": "stream",
     "text": [
      "INFO:tensorflow:Assets written to: ./checkpoints\\cerebellum_model_checkpoint.ckpt\\assets\n"
     ]
    },
    {
     "name": "stdout",
     "output_type": "stream",
     "text": [
      "31/31 [==============================] - 16s 500ms/step - loss: 0.1099 - dice_coef: 0.9318 - val_loss: 0.1146 - val_dice_coef: 0.9269\n",
      "Epoch 45/50\n",
      "31/31 [==============================] - ETA: 0s - loss: 0.1061 - dice_coef: 0.9349\n",
      "Epoch 45: val_loss improved from 0.11455 to 0.10985, saving model to ./checkpoints\\cerebellum_model_checkpoint.ckpt\n",
      "INFO:tensorflow:Assets written to: ./checkpoints\\cerebellum_model_checkpoint.ckpt\\assets\n"
     ]
    },
    {
     "name": "stderr",
     "output_type": "stream",
     "text": [
      "INFO:tensorflow:Assets written to: ./checkpoints\\cerebellum_model_checkpoint.ckpt\\assets\n"
     ]
    },
    {
     "name": "stdout",
     "output_type": "stream",
     "text": [
      "31/31 [==============================] - 18s 568ms/step - loss: 0.1061 - dice_coef: 0.9349 - val_loss: 0.1098 - val_dice_coef: 0.9311\n",
      "Epoch 46/50\n",
      "31/31 [==============================] - ETA: 0s - loss: 0.1036 - dice_coef: 0.9367\n",
      "Epoch 46: val_loss improved from 0.10985 to 0.10796, saving model to ./checkpoints\\cerebellum_model_checkpoint.ckpt\n",
      "INFO:tensorflow:Assets written to: ./checkpoints\\cerebellum_model_checkpoint.ckpt\\assets\n"
     ]
    },
    {
     "name": "stderr",
     "output_type": "stream",
     "text": [
      "INFO:tensorflow:Assets written to: ./checkpoints\\cerebellum_model_checkpoint.ckpt\\assets\n"
     ]
    },
    {
     "name": "stdout",
     "output_type": "stream",
     "text": [
      "31/31 [==============================] - 18s 573ms/step - loss: 0.1036 - dice_coef: 0.9367 - val_loss: 0.1080 - val_dice_coef: 0.9325\n",
      "Epoch 47/50\n",
      "31/31 [==============================] - ETA: 0s - loss: 0.1016 - dice_coef: 0.9384\n",
      "Epoch 47: val_loss improved from 0.10796 to 0.10679, saving model to ./checkpoints\\cerebellum_model_checkpoint.ckpt\n",
      "INFO:tensorflow:Assets written to: ./checkpoints\\cerebellum_model_checkpoint.ckpt\\assets\n"
     ]
    },
    {
     "name": "stderr",
     "output_type": "stream",
     "text": [
      "INFO:tensorflow:Assets written to: ./checkpoints\\cerebellum_model_checkpoint.ckpt\\assets\n"
     ]
    },
    {
     "name": "stdout",
     "output_type": "stream",
     "text": [
      "31/31 [==============================] - 15s 486ms/step - loss: 0.1016 - dice_coef: 0.9384 - val_loss: 0.1068 - val_dice_coef: 0.9332\n",
      "Epoch 48/50\n",
      "31/31 [==============================] - ETA: 0s - loss: 0.1005 - dice_coef: 0.9386\n",
      "Epoch 48: val_loss improved from 0.10679 to 0.10575, saving model to ./checkpoints\\cerebellum_model_checkpoint.ckpt\n",
      "INFO:tensorflow:Assets written to: ./checkpoints\\cerebellum_model_checkpoint.ckpt\\assets\n"
     ]
    },
    {
     "name": "stderr",
     "output_type": "stream",
     "text": [
      "INFO:tensorflow:Assets written to: ./checkpoints\\cerebellum_model_checkpoint.ckpt\\assets\n"
     ]
    },
    {
     "name": "stdout",
     "output_type": "stream",
     "text": [
      "31/31 [==============================] - 17s 533ms/step - loss: 0.1005 - dice_coef: 0.9386 - val_loss: 0.1057 - val_dice_coef: 0.9338\n",
      "Epoch 49/50\n",
      "31/31 [==============================] - ETA: 0s - loss: 0.0988 - dice_coef: 0.9404\n",
      "Epoch 49: val_loss improved from 0.10575 to 0.10125, saving model to ./checkpoints\\cerebellum_model_checkpoint.ckpt\n",
      "INFO:tensorflow:Assets written to: ./checkpoints\\cerebellum_model_checkpoint.ckpt\\assets\n"
     ]
    },
    {
     "name": "stderr",
     "output_type": "stream",
     "text": [
      "INFO:tensorflow:Assets written to: ./checkpoints\\cerebellum_model_checkpoint.ckpt\\assets\n"
     ]
    },
    {
     "name": "stdout",
     "output_type": "stream",
     "text": [
      "31/31 [==============================] - 18s 582ms/step - loss: 0.0988 - dice_coef: 0.9404 - val_loss: 0.1012 - val_dice_coef: 0.9378\n",
      "Epoch 50/50\n",
      "31/31 [==============================] - ETA: 0s - loss: 0.0964 - dice_coef: 0.9424\n",
      "Epoch 50: val_loss improved from 0.10125 to 0.10058, saving model to ./checkpoints\\cerebellum_model_checkpoint.ckpt\n",
      "INFO:tensorflow:Assets written to: ./checkpoints\\cerebellum_model_checkpoint.ckpt\\assets\n"
     ]
    },
    {
     "name": "stderr",
     "output_type": "stream",
     "text": [
      "INFO:tensorflow:Assets written to: ./checkpoints\\cerebellum_model_checkpoint.ckpt\\assets\n"
     ]
    },
    {
     "name": "stdout",
     "output_type": "stream",
     "text": [
      "31/31 [==============================] - 16s 515ms/step - loss: 0.0964 - dice_coef: 0.9424 - val_loss: 0.1006 - val_dice_coef: 0.9380\n"
     ]
    }
   ],
   "source": [
    "batch_size = 10\n",
    "epochs = 50\n",
    "\n",
    "# Train the model\n",
    "history = model.fit(X_train,\n",
    "          Y_train,\n",
    "          batch_size=batch_size,\n",
    "          epochs=epochs,\n",
    "          verbose=1,\n",
    "          validation_data=(X_test, Y_test),\n",
    "            callbacks=[model_checkpoint]\n",
    "          )\n",
    "\n"
   ]
  },
  {
   "cell_type": "code",
   "execution_count": 13,
   "metadata": {},
   "outputs": [
    {
     "name": "stdout",
     "output_type": "stream",
     "text": [
      "Evaluate on test data\n",
      "15/15 [==============================] - 2s 74ms/step - loss: 0.1006 - dice_coef: 0.9380\n",
      "test loss, test acc: [0.10058407485485077, 0.93803870677948]\n"
     ]
    }
   ],
   "source": [
    "from scripts.loss import dice_loss, dice_coef\n",
    "\n",
    "# Evaluate the best model on the test data\n",
    "best_model = load_model(checkpoint_path, custom_objects={dice_loss.__name__:dice_loss, dice_coef.__name__:dice_coef})\n",
    "\n",
    "print(\"Evaluate on test data\")\n",
    "results = best_model.evaluate(X_test, Y_test, batch_size=batch_size)\n",
    "print(\"test loss, test acc:\", results)\n"
   ]
  },
  {
   "cell_type": "code",
   "execution_count": 19,
   "metadata": {},
   "outputs": [],
   "source": [
    "# Save the best model\n",
    "best_model.save(f\"models/{best_model.name}.h5\")"
   ]
  },
  {
   "cell_type": "code",
   "execution_count": 15,
   "metadata": {},
   "outputs": [
    {
     "data": {
      "image/png": "[encoded data removed]",
      "text/plain": [
       "<Figure size 1500x500 with 2 Axes>"
      ]
     },
     "metadata": {},
     "output_type": "display_data"
    }
   ],
   "source": [
    "# Show the accuracy of the model over time/epochs\n",
    "\n",
    "# Get the names of the loss and metric used\n",
    "loss_name = model.compiled_loss.metrics[0].name\n",
    "metric_name = model.compiled_metrics.metrics[0].name\n",
    "\n",
    "# Get the training history of the model\n",
    "epoch_lst = history.epoch\n",
    "loss = history.history[loss_name]\n",
    "metric = history.history[metric_name]\n",
    "val_loss = history.history[\"val_\" + loss_name]\n",
    "val_metric = history.history[\"val_\" + metric_name]\n",
    "\n",
    "fig, (ax1, ax2) = plt.subplots(1,2, figsize=(15,5))\n",
    "\n",
    "# Plot loss and validation loss\n",
    "ax1.plot(epoch_lst, loss, label=\"Training Loss\")\n",
    "ax1.plot(epoch_lst, val_loss, label=\"Validation Loss\")\n",
    "ax1.set_xlabel(\"Epochs\")\n",
    "ax1.set_ylabel(\"Loss\")\n",
    "ax1.set_title(\"Training and Validation Loss\")\n",
    "ax1.legend()\n",
    "\n",
    "# Plot the training and validation dice score\n",
    "ax2.plot(epoch_lst, metric, label=f\"Training {metric_name}\")\n",
    "ax2.plot(epoch_lst, val_metric, label=f\"Validation {metric_name}\")\n",
    "ax2.set_xlabel(\"Epochs\")\n",
    "ax2.set_ylabel(\"Dice Score\")\n",
    "ax2.set_title(\"Training and Validation IoU\")\n",
    "ax2.legend()\n",
    "\n",
    "\n",
    "plt.show()"
   ]
  },
  {
   "cell_type": "code",
   "execution_count": 16,
   "metadata": {},
   "outputs": [
    {
     "name": "stdout",
     "output_type": "stream",
     "text": [
      "Generate predictions for 10 samples\n",
      "1/1 [==============================] - 0s 426ms/step\n",
      "predictions shape: (10, 64, 64, 64)\n"
     ]
    }
   ],
   "source": [
    "# Generate predictions (probabilities -- the output of the last layer)\n",
    "\n",
    "n_patches = 10\n",
    "print(f\"Generate predictions for {n_patches} samples\")\n",
    "predictions = best_model.predict(X_test[:n_patches])\n",
    "predictions = np.argmax(predictions, axis=-1)\n",
    "print(\"predictions shape:\", predictions.shape)\n",
    "\n"
   ]
  },
  {
   "cell_type": "code",
   "execution_count": 17,
   "metadata": {},
   "outputs": [],
   "source": [
    "# Extracts a specific patch from the predicted patches to display.\n",
    "\n",
    "test_patch_num = 5\n",
    "image = X_test[test_patch_num]\n",
    "gt = np.argmax(Y_test[test_patch_num], axis=-1)\n",
    "pred = predictions[test_patch_num]\n",
    "\n"
   ]
  },
  {
   "cell_type": "code",
   "execution_count": 18,
   "metadata": {
    "scrolled": false
   },
   "outputs": [
    {
     "data": {
      "application/vnd.jupyter.widget-view+json": {
       "model_id": "de4683802d65400a8d54673d27026a64",
       "version_major": 2,
       "version_minor": 0
      },
      "text/plain": [
       "interactive(children=(Dropdown(description='axes', options=('xy', 'yz', 'xz'), value='xy'), IntSlider(value=0,…"
      ]
     },
     "metadata": {},
     "output_type": "display_data"
    }
   ],
   "source": [
    "display_prediction(image, gt, pred)\n"
   ]
  }
 ],
 "metadata": {
  "kernelspec": {
   "display_name": "Python 3 (ipykernel)",
   "language": "python",
   "name": "python3"
  },
  "language_info": {
   "codemirror_mode": {
    "name": "ipython",
    "version": 3
   },
   "file_extension": ".py",
   "mimetype": "text/x-python",
   "name": "python",
   "nbconvert_exporter": "python",
   "pygments_lexer": "ipython3",
   "version": "3.10.4"
  }
 },
 "nbformat": 4,
 "nbformat_minor": 1
}
