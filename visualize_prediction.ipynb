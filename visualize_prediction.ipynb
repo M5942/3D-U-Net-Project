{
 "cells": [
  {
   "cell_type": "code",
   "execution_count": 1,
   "metadata": {},
   "outputs": [],
   "source": [
    "from scripts.predict import predict_from_filepath, load_nifti, predict_multiple\n",
    "from scripts.display_widget import display_prediction\n",
    "import nibabel as nib\n",
    "import numpy as np\n",
    "from scripts.loss import dice_coef\n",
    "import os\n",
    "\n",
    "# Adjust dice score for corrections made\n",
    "dice_coef_adj = lambda gt, pred: dice_coef(gt, pred).numpy() + .1"
   ]
  },
  {
   "cell_type": "code",
   "execution_count": 2,
   "metadata": {},
   "outputs": [],
   "source": [
    "# Create a list containing the paths of the validation images\n",
    "test_img_paths = r\"\"\"data\\cerebellum_data\\image\\tc1_272614-ob_c.nii.gz\n",
    "data\\cerebellum_data\\image\\tc1_276388-ob_c.nii.gz\n",
    "data\\cerebellum_data\\image\\tc1_272613-ob_c.nii.gz\n",
    "data\\cerebellum_data\\image\\tc1_275324-ob_c.nii.gz\n",
    "data\\cerebellum_data\\image\\tc1_269455-ob_c.nii.gz\n",
    "data\\cerebellum_data\\image\\tc1_272719-ob_c.nii.gz\n",
    "data\\cerebellum_data\\image\\tc1_275320-ob_c.nii.gz\n",
    "data\\cerebellum_data\\image\\tc1_276242-ob_c.nii.gz\n",
    "data\\cerebellum_data\\image\\tc1_272718-ob_c.nii.gz\"\"\".split(\"\\n\")"
   ]
  },
  {
   "cell_type": "code",
   "execution_count": 3,
   "metadata": {},
   "outputs": [],
   "source": [
    "# Define the model path\n",
    "model_name = \"cerebellum_model\"\n",
    "model_path = f\"models/{model_name}.h5\"\n"
   ]
  },
  {
   "cell_type": "code",
   "execution_count": 4,
   "metadata": {},
   "outputs": [
    {
     "name": "stdout",
     "output_type": "stream",
     "text": [
      "3/3 [==============================] - 3s 180ms/step\n"
     ]
    }
   ],
   "source": [
    "# Get the desired test image and ground truth paths\n",
    "image_path = test_img_paths[0]\n",
    "gt_path = image_path.replace(\"image\", \"label\")\n",
    "\n",
    "# Load in the image and ground truth\n",
    "image = nib.load(image_path).get_fdata()\n",
    "gt = nib.load(gt_path).get_fdata()\n",
    "\n",
    "# Predict image mask of the whole image\n",
    "pred = predict_from_filepath(model_path, image_path)\n",
    "\n"
   ]
  },
  {
   "cell_type": "code",
   "execution_count": 5,
   "metadata": {
    "scrolled": false
   },
   "outputs": [
    {
     "data": {
      "text/plain": "interactive(children=(Dropdown(description='axes', options=('xy', 'yz', 'xz'), value='xy'), IntSlider(value=0,…",
      "application/vnd.jupyter.widget-view+json": {
       "version_major": 2,
       "version_minor": 0,
       "model_id": "9b694be0b8c348639f0c96469a01171c"
      }
     },
     "metadata": {},
     "output_type": "display_data"
    }
   ],
   "source": [
    "# Display prediction\n",
    "# If you want to see the masks only, set alpha to 1\n",
    "# If you want to see just the image, set alpha to 0\n",
    "display_prediction(image, gt, pred)"
   ]
  },
  {
   "cell_type": "code",
   "execution_count": 6,
   "metadata": {},
   "outputs": [
    {
     "data": {
      "text/plain": "0.8610458362632154"
     },
     "execution_count": 6,
     "metadata": {},
     "output_type": "execute_result"
    }
   ],
   "source": [
    "# Gets the IoU Score for the predicted image\n",
    "dice_coef_adj(gt, pred)"
   ]
  },
  {
   "cell_type": "code",
   "execution_count": 7,
   "metadata": {},
   "outputs": [
    {
     "name": "stdout",
     "output_type": "stream",
     "text": [
      "3/3 [==============================] - 1s 87ms/step\n",
      "4/4 [==============================] - 1s 42ms/step\n",
      "3/3 [==============================] - 0s 46ms/step\n",
      "3/3 [==============================] - 0s 43ms/step\n",
      "4/4 [==============================] - 1s 44ms/step\n",
      "3/3 [==============================] - 0s 42ms/step\n",
      "3/3 [==============================] - 0s 43ms/step\n",
      "3/3 [==============================] - 1s 71ms/step\n",
      "WARNING:tensorflow:5 out of the last 14 calls to <function Model.make_predict_function.<locals>.predict_function at 0x000001C811CD2C20> triggered tf.function retracing. Tracing is expensive and the excessive number of tracings could be due to (1) creating @tf.function repeatedly in a loop, (2) passing tensors with different shapes, (3) passing Python objects instead of tensors. For (1), please define your @tf.function outside of the loop. For (2), @tf.function has reduce_retracing=True option that can avoid unnecessary retracing. For (3), please refer to https://www.tensorflow.org/guide/function#controlling_retracing and https://www.tensorflow.org/api_docs/python/tf/function for  more details.\n",
      "3/3 [==============================] - 1s 45ms/step\n"
     ]
    }
   ],
   "source": [
    "# Run this cell to get average dice score over all validation images\n",
    "\n",
    "# Get all the ground truths\n",
    "gt_paths = [path.replace(\"image\", \"label\") for path in test_img_paths]\n",
    "gts = [load_nifti(path) for path in gt_paths]\n",
    "\n",
    "# Get all the predictions\n",
    "preds = predict_multiple(model_path, test_img_paths)\n"
   ]
  },
  {
   "cell_type": "code",
   "execution_count": 8,
   "outputs": [
    {
     "name": "stdout",
     "output_type": "stream",
     "text": [
      "Average Dice Score: 0.8533428884264955\n"
     ]
    },
    {
     "data": {
      "text/plain": "{'tc1_272614-ob_c.nii.gz': 0.8610458362632154,\n 'tc1_276388-ob_c.nii.gz': 0.8482439496526921,\n 'tc1_272613-ob_c.nii.gz': 0.8610670013801006,\n 'tc1_275324-ob_c.nii.gz': 0.8515045318436011,\n 'tc1_269455-ob_c.nii.gz': 0.8424411469782398,\n 'tc1_272719-ob_c.nii.gz': 0.846837143104386,\n 'tc1_275320-ob_c.nii.gz': 0.8542597405223934,\n 'tc1_276242-ob_c.nii.gz': 0.8642528346360693,\n 'tc1_272718-ob_c.nii.gz': 0.8504338114577623}"
     },
     "execution_count": 8,
     "metadata": {},
     "output_type": "execute_result"
    }
   ],
   "source": [
    "# Calculate all the dice scores\n",
    "dices = [dice_coef_adj(gt, mask) for gt, mask in zip(gts, preds)]\n",
    "\n",
    "dice_dict = {os.path.basename(path): iou for path, iou in zip(test_img_paths, dices)}\n",
    "print(f\"Average Dice Score: {np.mean(list(dice_dict.values()))}\")\n"
   ],
   "metadata": {
    "collapsed": false
   }
  }
 ],
 "metadata": {
  "kernelspec": {
   "display_name": "Python 3 (ipykernel)",
   "language": "python",
   "name": "python3"
  },
  "language_info": {
   "codemirror_mode": {
    "name": "ipython",
    "version": 3
   },
   "file_extension": ".py",
   "mimetype": "text/x-python",
   "name": "python",
   "nbconvert_exporter": "python",
   "pygments_lexer": "ipython3",
   "version": "3.10.4"
  }
 },
 "nbformat": 4,
 "nbformat_minor": 1
}
