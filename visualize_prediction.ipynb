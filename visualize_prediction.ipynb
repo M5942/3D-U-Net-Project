{
 "cells": [
  {
   "cell_type": "code",
   "execution_count": 1,
   "metadata": {},
   "outputs": [],
   "source": [
    "from predict import predict_from_filepath\n",
    "import tensorflow as tf\n",
    "from loss import dice_coef, dice_loss\n",
    "from model import unet_3d\n",
    "from display_widget import display_prediction\n",
    "import nibabel as nib\n",
    "import numpy as np\n",
    "from os.path import dirname, basename\n"
   ]
  },
  {
   "cell_type": "code",
   "execution_count": 11,
   "metadata": {},
   "outputs": [],
   "source": [
    "# File paths\n",
    "# model_path = \"cerebellum_model.h5\"\n",
    "image_path = r'data\\cerebellum_data\\image\\tc1_272718-ob_c.nii.gz'\n",
    "model_name = \"cerebellum_model\"\n",
    "model_path = f\"models/{model_name}.h5\"\n",
    "gt_path = image_path.replace(\"image\", \"label\")\n",
    "\n",
    "# Load in the image and ground truth\n",
    "image = nib.load(image_path).get_fdata()\n",
    "gt = nib.load(gt_path).get_fdata()\n",
    "gt[gt != 0] = 1\n",
    "\n"
   ]
  },
  {
   "cell_type": "code",
   "execution_count": 12,
   "metadata": {},
   "outputs": [
    {
     "name": "stdout",
     "output_type": "stream",
     "text": [
      "3/3 [==============================] - 1s 123ms/step\n"
     ]
    }
   ],
   "source": [
    "# Predict on whole image\n",
    "pred = predict_from_filepath(model_path, image_path).astype(np.float64)\n",
    "\n"
   ]
  },
  {
   "cell_type": "code",
   "execution_count": null,
   "metadata": {},
   "outputs": [],
   "source": []
  },
  {
   "cell_type": "code",
   "execution_count": 13,
   "metadata": {
    "pycharm": {
     "is_executing": true
    },
    "scrolled": false
   },
   "outputs": [
    {
     "data": {
      "application/vnd.jupyter.widget-view+json": {
       "model_id": "db0cbe9c2f62426aa07bf2c64c06e81a",
       "version_major": 2,
       "version_minor": 0
      },
      "text/plain": [
       "interactive(children=(Dropdown(description='axes', options=('xy', 'yz', 'xz'), value='xy'), IntSlider(value=0,…"
      ]
     },
     "metadata": {},
     "output_type": "display_data"
    }
   ],
   "source": [
    "# Display prediction\n",
    "display_prediction(image, gt, pred)\n",
    "\n",
    "\n"
   ]
  },
  {
   "cell_type": "code",
   "execution_count": 22,
   "metadata": {},
   "outputs": [
    {
     "data": {
      "text/plain": [
       "array([0.])"
      ]
     },
     "execution_count": 22,
     "metadata": {},
     "output_type": "execute_result"
    }
   ],
   "source": []
  }
 ],
 "metadata": {
  "kernelspec": {
   "display_name": "Python 3 (ipykernel)",
   "language": "python",
   "name": "python3"
  },
  "language_info": {
   "codemirror_mode": {
    "name": "ipython",
    "version": 3
   },
   "file_extension": ".py",
   "mimetype": "text/x-python",
   "name": "python",
   "nbconvert_exporter": "python",
   "pygments_lexer": "ipython3",
   "version": "3.10.4"
  }
 },
 "nbformat": 4,
 "nbformat_minor": 1
}
